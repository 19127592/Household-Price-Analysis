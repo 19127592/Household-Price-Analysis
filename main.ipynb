{
  "cells": [
    {
      "cell_type": "markdown",
      "metadata": {},
      "source": [
        "# Tập dữ liệu nhà ở tại Việt Nam thành phố Hà Nội"
      ]
    },
    {
      "cell_type": "markdown",
      "metadata": {},
      "source": [
        "Đây là một tập dữ liệu về các thông tin nhà ở bao gồm địa chỉ, diện tích, giá nhà,... ở thành phố Hà Nội, Việt Nam. Ta sẽ đi sơ qua về dữ liệu cũng như các bước tiền xử lý, phân tích, hồi quy và cuối cùng là dự đoán giá nhà nhờ vào các biến đã cho.\n",
        "\n",
        "Link tập dữ liệu: https://www.kaggle.com/datasets/ladcva/vietnam-housing-dataset-hanoi?select=VN_housing_dataset.csv\n",
        "\n",
        "Tập dữ liệu này có nguồn kiểm chứng từ: https://creativecommons.org/licenses/by-nc-sa/4.0/"
      ]
    },
    {
      "cell_type": "code",
      "execution_count": 1,
      "metadata": {
        "colab": {
          "base_uri": "https://localhost:8080/"
        },
        "id": "QWlT6I9iVDoL",
        "outputId": "b061822e-b16c-4f10-9514-acd8897a43af"
      },
      "outputs": [],
      "source": [
        "import sys\n",
        "import pandas as pd\n",
        "import matplotlib.pyplot as plt\n",
        "import numpy as np\n",
        "import seaborn as sns\n",
        "from sklearn.preprocessing import StandardScaler\n",
        "from sklearn.model_selection import train_test_split\n",
        "import statsmodels.formula.api as smf\n",
        "import statsmodels.api as sm\n",
        "from tensorflow.keras.models import Sequential\n",
        "from tensorflow.keras.layers import Dense"
      ]
    },
    {
      "cell_type": "markdown",
      "metadata": {
        "id": "1_aLv5e9VDoQ"
      },
      "source": [
        "## Thu nhập dữ liệu"
      ]
    },
    {
      "cell_type": "code",
      "execution_count": 2,
      "metadata": {
        "colab": {
          "base_uri": "https://localhost:8080/",
          "height": 641
        },
        "id": "itZYq0IbVDoS",
        "outputId": "5f05fac0-8529-4c2d-c878-5716405638cd"
      },
      "outputs": [
        {
          "data": {
            "text/html": [
              "<div>\n",
              "<style scoped>\n",
              "    .dataframe tbody tr th:only-of-type {\n",
              "        vertical-align: middle;\n",
              "    }\n",
              "\n",
              "    .dataframe tbody tr th {\n",
              "        vertical-align: top;\n",
              "    }\n",
              "\n",
              "    .dataframe thead th {\n",
              "        text-align: right;\n",
              "    }\n",
              "</style>\n",
              "<table border=\"1\" class=\"dataframe\">\n",
              "  <thead>\n",
              "    <tr style=\"text-align: right;\">\n",
              "      <th></th>\n",
              "      <th>Unnamed: 0</th>\n",
              "      <th>Ngày</th>\n",
              "      <th>Địa chỉ</th>\n",
              "      <th>Quận</th>\n",
              "      <th>Huyện</th>\n",
              "      <th>Loại hình nhà ở</th>\n",
              "      <th>Giấy tờ pháp lý</th>\n",
              "      <th>Số tầng</th>\n",
              "      <th>Số phòng ngủ</th>\n",
              "      <th>Diện tích</th>\n",
              "      <th>Dài</th>\n",
              "      <th>Rộng</th>\n",
              "      <th>Giá/m2</th>\n",
              "    </tr>\n",
              "  </thead>\n",
              "  <tbody>\n",
              "    <tr>\n",
              "      <th>0</th>\n",
              "      <td>0.0</td>\n",
              "      <td>2020-08-05</td>\n",
              "      <td>Đường Hoàng Quốc Việt, Phường Nghĩa Đô, Quận C...</td>\n",
              "      <td>Quận Cầu Giấy</td>\n",
              "      <td>Phường Nghĩa Đô</td>\n",
              "      <td>Nhà ngõ, hẻm</td>\n",
              "      <td>Đã có sổ</td>\n",
              "      <td>4</td>\n",
              "      <td>5 phòng</td>\n",
              "      <td>46 m²</td>\n",
              "      <td>NaN</td>\n",
              "      <td>NaN</td>\n",
              "      <td>86,96 triệu/m²</td>\n",
              "    </tr>\n",
              "    <tr>\n",
              "      <th>1</th>\n",
              "      <td>1.0</td>\n",
              "      <td>2020-08-05</td>\n",
              "      <td>Đường Kim Giang, Phường Kim Giang, Quận Thanh ...</td>\n",
              "      <td>Quận Thanh Xuân</td>\n",
              "      <td>Phường Kim Giang</td>\n",
              "      <td>Nhà mặt phố, mặt tiền</td>\n",
              "      <td>NaN</td>\n",
              "      <td>NaN</td>\n",
              "      <td>3 phòng</td>\n",
              "      <td>37 m²</td>\n",
              "      <td>NaN</td>\n",
              "      <td>NaN</td>\n",
              "      <td>116,22 triệu/m²</td>\n",
              "    </tr>\n",
              "    <tr>\n",
              "      <th>2</th>\n",
              "      <td>2.0</td>\n",
              "      <td>2020-08-05</td>\n",
              "      <td>phố minh khai, Phường Minh Khai, Quận Hai Bà T...</td>\n",
              "      <td>Quận Hai Bà Trưng</td>\n",
              "      <td>Phường Minh Khai</td>\n",
              "      <td>Nhà ngõ, hẻm</td>\n",
              "      <td>Đã có sổ</td>\n",
              "      <td>4</td>\n",
              "      <td>4 phòng</td>\n",
              "      <td>40 m²</td>\n",
              "      <td>10 m</td>\n",
              "      <td>4 m</td>\n",
              "      <td>65 triệu/m²</td>\n",
              "    </tr>\n",
              "    <tr>\n",
              "      <th>3</th>\n",
              "      <td>3.0</td>\n",
              "      <td>2020-08-05</td>\n",
              "      <td>Đường Võng Thị, Phường Thụy Khuê, Quận Tây Hồ,...</td>\n",
              "      <td>Quận Tây Hồ</td>\n",
              "      <td>Phường Thụy Khuê</td>\n",
              "      <td>Nhà ngõ, hẻm</td>\n",
              "      <td>Đã có sổ</td>\n",
              "      <td>NaN</td>\n",
              "      <td>6 phòng</td>\n",
              "      <td>51 m²</td>\n",
              "      <td>12.75 m</td>\n",
              "      <td>4 m</td>\n",
              "      <td>100 triệu/m²</td>\n",
              "    </tr>\n",
              "    <tr>\n",
              "      <th>4</th>\n",
              "      <td>4.0</td>\n",
              "      <td>2020-08-05</td>\n",
              "      <td>Đường Kim Giang, Phường Kim Giang, Quận Thanh ...</td>\n",
              "      <td>Quận Thanh Xuân</td>\n",
              "      <td>Phường Kim Giang</td>\n",
              "      <td>Nhà ngõ, hẻm</td>\n",
              "      <td>NaN</td>\n",
              "      <td>NaN</td>\n",
              "      <td>4 phòng</td>\n",
              "      <td>36 m²</td>\n",
              "      <td>9 m</td>\n",
              "      <td>4 m</td>\n",
              "      <td>86,11 triệu/m²</td>\n",
              "    </tr>\n",
              "    <tr>\n",
              "      <th>...</th>\n",
              "      <td>...</td>\n",
              "      <td>...</td>\n",
              "      <td>...</td>\n",
              "      <td>...</td>\n",
              "      <td>...</td>\n",
              "      <td>...</td>\n",
              "      <td>...</td>\n",
              "      <td>...</td>\n",
              "      <td>...</td>\n",
              "      <td>...</td>\n",
              "      <td>...</td>\n",
              "      <td>...</td>\n",
              "      <td>...</td>\n",
              "    </tr>\n",
              "    <tr>\n",
              "      <th>82492</th>\n",
              "      <td>82492.0</td>\n",
              "      <td>2019-08-07</td>\n",
              "      <td>Đường Trần Quốc Hoàn, Phường Quan Hoa, Quận Cầ...</td>\n",
              "      <td>Quận Cầu Giấy</td>\n",
              "      <td>Phường Quan Hoa</td>\n",
              "      <td>Nhà mặt phố, mặt tiền</td>\n",
              "      <td>NaN</td>\n",
              "      <td>NaN</td>\n",
              "      <td>3 phòng</td>\n",
              "      <td>50 m²</td>\n",
              "      <td>NaN</td>\n",
              "      <td>NaN</td>\n",
              "      <td>292 triệu/m²</td>\n",
              "    </tr>\n",
              "    <tr>\n",
              "      <th>82493</th>\n",
              "      <td>82493.0</td>\n",
              "      <td>2019-08-07</td>\n",
              "      <td>Đường Nguyễn Khánh Toàn, Phường Quan Hoa, Quận...</td>\n",
              "      <td>Quận Cầu Giấy</td>\n",
              "      <td>Phường Quan Hoa</td>\n",
              "      <td>Nhà mặt phố, mặt tiền</td>\n",
              "      <td>Đã có sổ</td>\n",
              "      <td>NaN</td>\n",
              "      <td>4 phòng</td>\n",
              "      <td>41 m²</td>\n",
              "      <td>NaN</td>\n",
              "      <td>NaN</td>\n",
              "      <td>341,46 triệu/m²</td>\n",
              "    </tr>\n",
              "    <tr>\n",
              "      <th>82494</th>\n",
              "      <td>82494.0</td>\n",
              "      <td>2019-08-05</td>\n",
              "      <td>Đường Quan Hoa, Phường Quan Hoa, Quận Cầu Giấy...</td>\n",
              "      <td>Quận Cầu Giấy</td>\n",
              "      <td>Phường Quan Hoa</td>\n",
              "      <td>Nhà ngõ, hẻm</td>\n",
              "      <td>Đã có sổ</td>\n",
              "      <td>NaN</td>\n",
              "      <td>4 phòng</td>\n",
              "      <td>60 m²</td>\n",
              "      <td>NaN</td>\n",
              "      <td>NaN</td>\n",
              "      <td>101,67 triệu/m²</td>\n",
              "    </tr>\n",
              "    <tr>\n",
              "      <th>82495</th>\n",
              "      <td>82495.0</td>\n",
              "      <td>2019-08-05</td>\n",
              "      <td>Đường Hồ Tùng Mậu, Phường Mai Dịch, Quận Cầu G...</td>\n",
              "      <td>Quận Cầu Giấy</td>\n",
              "      <td>Phường Mai Dịch</td>\n",
              "      <td>Nhà phố liền kề</td>\n",
              "      <td>NaN</td>\n",
              "      <td>NaN</td>\n",
              "      <td>4 phòng</td>\n",
              "      <td>45 m²</td>\n",
              "      <td>NaN</td>\n",
              "      <td>NaN</td>\n",
              "      <td>102,22 triệu/m²</td>\n",
              "    </tr>\n",
              "    <tr>\n",
              "      <th>82496</th>\n",
              "      <td>NaN</td>\n",
              "      <td>NaN</td>\n",
              "      <td>NaN</td>\n",
              "      <td>NaN</td>\n",
              "      <td>NaN</td>\n",
              "      <td>NaN</td>\n",
              "      <td>NaN</td>\n",
              "      <td>NaN</td>\n",
              "      <td>NaN</td>\n",
              "      <td>NaN</td>\n",
              "      <td>NaN</td>\n",
              "      <td>NaN</td>\n",
              "      <td>NaN</td>\n",
              "    </tr>\n",
              "  </tbody>\n",
              "</table>\n",
              "<p>82497 rows × 13 columns</p>\n",
              "</div>"
            ],
            "text/plain": [
              "       Unnamed: 0        Ngày  \\\n",
              "0             0.0  2020-08-05   \n",
              "1             1.0  2020-08-05   \n",
              "2             2.0  2020-08-05   \n",
              "3             3.0  2020-08-05   \n",
              "4             4.0  2020-08-05   \n",
              "...           ...         ...   \n",
              "82492     82492.0  2019-08-07   \n",
              "82493     82493.0  2019-08-07   \n",
              "82494     82494.0  2019-08-05   \n",
              "82495     82495.0  2019-08-05   \n",
              "82496         NaN         NaN   \n",
              "\n",
              "                                                 Địa chỉ               Quận  \\\n",
              "0      Đường Hoàng Quốc Việt, Phường Nghĩa Đô, Quận C...      Quận Cầu Giấy   \n",
              "1      Đường Kim Giang, Phường Kim Giang, Quận Thanh ...    Quận Thanh Xuân   \n",
              "2      phố minh khai, Phường Minh Khai, Quận Hai Bà T...  Quận Hai Bà Trưng   \n",
              "3      Đường Võng Thị, Phường Thụy Khuê, Quận Tây Hồ,...        Quận Tây Hồ   \n",
              "4      Đường Kim Giang, Phường Kim Giang, Quận Thanh ...    Quận Thanh Xuân   \n",
              "...                                                  ...                ...   \n",
              "82492  Đường Trần Quốc Hoàn, Phường Quan Hoa, Quận Cầ...      Quận Cầu Giấy   \n",
              "82493  Đường Nguyễn Khánh Toàn, Phường Quan Hoa, Quận...      Quận Cầu Giấy   \n",
              "82494  Đường Quan Hoa, Phường Quan Hoa, Quận Cầu Giấy...      Quận Cầu Giấy   \n",
              "82495  Đường Hồ Tùng Mậu, Phường Mai Dịch, Quận Cầu G...      Quận Cầu Giấy   \n",
              "82496                                                NaN                NaN   \n",
              "\n",
              "                  Huyện        Loại hình nhà ở Giấy tờ pháp lý Số tầng  \\\n",
              "0       Phường Nghĩa Đô           Nhà ngõ, hẻm        Đã có sổ       4   \n",
              "1      Phường Kim Giang  Nhà mặt phố, mặt tiền             NaN     NaN   \n",
              "2      Phường Minh Khai           Nhà ngõ, hẻm        Đã có sổ       4   \n",
              "3      Phường Thụy Khuê           Nhà ngõ, hẻm        Đã có sổ     NaN   \n",
              "4      Phường Kim Giang           Nhà ngõ, hẻm             NaN     NaN   \n",
              "...                 ...                    ...             ...     ...   \n",
              "82492   Phường Quan Hoa  Nhà mặt phố, mặt tiền             NaN     NaN   \n",
              "82493   Phường Quan Hoa  Nhà mặt phố, mặt tiền        Đã có sổ     NaN   \n",
              "82494   Phường Quan Hoa           Nhà ngõ, hẻm        Đã có sổ     NaN   \n",
              "82495   Phường Mai Dịch        Nhà phố liền kề             NaN     NaN   \n",
              "82496               NaN                    NaN             NaN     NaN   \n",
              "\n",
              "      Số phòng ngủ Diện tích      Dài Rộng           Giá/m2  \n",
              "0          5 phòng     46 m²      NaN  NaN   86,96 triệu/m²  \n",
              "1          3 phòng     37 m²      NaN  NaN  116,22 triệu/m²  \n",
              "2          4 phòng     40 m²     10 m  4 m      65 triệu/m²  \n",
              "3          6 phòng     51 m²  12.75 m  4 m     100 triệu/m²  \n",
              "4          4 phòng     36 m²      9 m  4 m   86,11 triệu/m²  \n",
              "...            ...       ...      ...  ...              ...  \n",
              "82492      3 phòng     50 m²      NaN  NaN     292 triệu/m²  \n",
              "82493      4 phòng     41 m²      NaN  NaN  341,46 triệu/m²  \n",
              "82494      4 phòng     60 m²      NaN  NaN  101,67 triệu/m²  \n",
              "82495      4 phòng     45 m²      NaN  NaN  102,22 triệu/m²  \n",
              "82496          NaN       NaN      NaN  NaN              NaN  \n",
              "\n",
              "[82497 rows x 13 columns]"
            ]
          },
          "execution_count": 2,
          "metadata": {},
          "output_type": "execute_result"
        }
      ],
      "source": [
        "vn_house_df = pd.read_csv('data/VN_housing_dataset.csv')\n",
        "vn_house_df"
      ]
    },
    {
      "cell_type": "markdown",
      "metadata": {
        "id": "fRt-UXxPVDoS"
      },
      "source": [
        "### Có bao nhiêu dòng cột? Có dòng nào bị lặp không ?"
      ]
    },
    {
      "cell_type": "code",
      "execution_count": 3,
      "metadata": {
        "colab": {
          "base_uri": "https://localhost:8080/"
        },
        "id": "Wiml6J8dVDoT",
        "outputId": "9a6b4f51-22f0-41f3-986c-ef98d977b393"
      },
      "outputs": [
        {
          "data": {
            "text/plain": [
              "(82497, 13)"
            ]
          },
          "execution_count": 3,
          "metadata": {},
          "output_type": "execute_result"
        }
      ],
      "source": [
        "vn_house_df.shape"
      ]
    },
    {
      "cell_type": "code",
      "execution_count": 4,
      "metadata": {
        "colab": {
          "base_uri": "https://localhost:8080/"
        },
        "id": "xysititBVDoU",
        "outputId": "21efde14-4a9a-45ee-b093-40d6c00031ee"
      },
      "outputs": [
        {
          "data": {
            "text/plain": [
              "False"
            ]
          },
          "execution_count": 4,
          "metadata": {},
          "output_type": "execute_result"
        }
      ],
      "source": [
        "have_duplicated_rows = vn_house_df.duplicated().any()\n",
        "have_duplicated_rows"
      ]
    },
    {
      "cell_type": "markdown",
      "metadata": {
        "id": "F-0fWE9QVDoV"
      },
      "source": [
        "## Khám phá dữ liệu"
      ]
    },
    {
      "cell_type": "code",
      "execution_count": 5,
      "metadata": {
        "colab": {
          "base_uri": "https://localhost:8080/"
        },
        "id": "x3c8FbGoVDoW",
        "outputId": "ec0be3c3-4995-40d2-963f-75dc9aa32bac"
      },
      "outputs": [
        {
          "name": "stdout",
          "output_type": "stream",
          "text": [
            "<class 'pandas.core.frame.DataFrame'>\n",
            "RangeIndex: 82497 entries, 0 to 82496\n",
            "Data columns (total 13 columns):\n",
            " #   Column           Non-Null Count  Dtype  \n",
            "---  ------           --------------  -----  \n",
            " 0   Unnamed: 0       82496 non-null  float64\n",
            " 1   Ngày             82496 non-null  object \n",
            " 2   Địa chỉ          82449 non-null  object \n",
            " 3   Quận             82495 non-null  object \n",
            " 4   Huyện            82449 non-null  object \n",
            " 5   Loại hình nhà ở  82465 non-null  object \n",
            " 6   Giấy tờ pháp lý  53610 non-null  object \n",
            " 7   Số tầng          36399 non-null  object \n",
            " 8   Số phòng ngủ     82458 non-null  object \n",
            " 9   Diện tích        82495 non-null  object \n",
            " 10  Dài              19827 non-null  object \n",
            " 11  Rộng             35445 non-null  object \n",
            " 12  Giá/m2           82484 non-null  object \n",
            "dtypes: float64(1), object(12)\n",
            "memory usage: 8.2+ MB\n"
          ]
        }
      ],
      "source": [
        "vn_house_df.info()"
      ]
    },
    {
      "cell_type": "code",
      "execution_count": 6,
      "metadata": {
        "colab": {
          "base_uri": "https://localhost:8080/"
        },
        "id": "ro4mH-WyVDoX",
        "outputId": "f18c5c3f-a08f-4f9f-f660-56e191448515"
      },
      "outputs": [
        {
          "data": {
            "text/plain": [
              "Unnamed: 0         82496\n",
              "Ngày                 174\n",
              "Địa chỉ            13957\n",
              "Quận                  29\n",
              "Huyện                309\n",
              "Loại hình nhà ở        4\n",
              "Giấy tờ pháp lý        3\n",
              "Số tầng               29\n",
              "Số phòng ngủ          11\n",
              "Diện tích            504\n",
              "Dài                  487\n",
              "Rộng                 410\n",
              "Giá/m2              8345\n",
              "dtype: int64"
            ]
          },
          "execution_count": 6,
          "metadata": {},
          "output_type": "execute_result"
        }
      ],
      "source": [
        "vn_house_df.nunique()"
      ]
    },
    {
      "cell_type": "markdown",
      "metadata": {
        "id": "7O4NoS7QVDoY"
      },
      "source": [
        "Như vậy, ta có thể nhận định được các cột categorical và numerical một cách dễ dàng."
      ]
    },
    {
      "cell_type": "code",
      "execution_count": 7,
      "metadata": {
        "id": "Qq_tvXoWVDoY"
      },
      "outputs": [],
      "source": [
        "categorical_cols = ['Quận','Huyện','Loại hình nhà ở','Giấy tờ pháp lý']\n",
        "numerical_cols = ['Số tầng','Số phòng ngủ','Diện tích','Giá/m2']"
      ]
    },
    {
      "cell_type": "markdown",
      "metadata": {
        "id": "0Z4B9ECJVDoZ"
      },
      "source": [
        "## Tiền xử lý dữ liệu"
      ]
    },
    {
      "cell_type": "markdown",
      "metadata": {
        "id": "AsTYlxj2VDoZ"
      },
      "source": [
        "Nhìn vào dữ liệu, ta cần lưu ý vài thứ như sau:\n",
        "- Nếu nhìn sâu một chút, cột Quận Huyện đã nằm bên trong cột địa chỉ bởi vì địa chỉ được ghi một cách đầy đủ theo quy định ở nước ta nên ta sẽ không tính hai cột này vào thống kê mô tả tuy vẫn có giá trị trực quan.\n",
        "- Cột Diện tích thực chất là tích của hai cột Dài và Rộng."
      ]
    },
    {
      "cell_type": "code",
      "execution_count": 8,
      "metadata": {
        "colab": {
          "base_uri": "https://localhost:8080/",
          "height": 424
        },
        "id": "PiqfHeyTVDoa",
        "outputId": "39d5a97c-c617-47e5-af6d-ee97a6a23961"
      },
      "outputs": [
        {
          "data": {
            "text/html": [
              "<div>\n",
              "<style scoped>\n",
              "    .dataframe tbody tr th:only-of-type {\n",
              "        vertical-align: middle;\n",
              "    }\n",
              "\n",
              "    .dataframe tbody tr th {\n",
              "        vertical-align: top;\n",
              "    }\n",
              "\n",
              "    .dataframe thead th {\n",
              "        text-align: right;\n",
              "    }\n",
              "</style>\n",
              "<table border=\"1\" class=\"dataframe\">\n",
              "  <thead>\n",
              "    <tr style=\"text-align: right;\">\n",
              "      <th></th>\n",
              "      <th>Ngày</th>\n",
              "      <th>Địa chỉ</th>\n",
              "      <th>Quận</th>\n",
              "      <th>Huyện</th>\n",
              "      <th>Loại hình nhà ở</th>\n",
              "      <th>Giấy tờ pháp lý</th>\n",
              "      <th>Số tầng</th>\n",
              "      <th>Số phòng ngủ</th>\n",
              "      <th>Diện tích</th>\n",
              "      <th>Giá/m2</th>\n",
              "    </tr>\n",
              "  </thead>\n",
              "  <tbody>\n",
              "    <tr>\n",
              "      <th>0</th>\n",
              "      <td>2020-08-05</td>\n",
              "      <td>Đường Hoàng Quốc Việt, Phường Nghĩa Đô, Quận C...</td>\n",
              "      <td>Quận Cầu Giấy</td>\n",
              "      <td>Phường Nghĩa Đô</td>\n",
              "      <td>Nhà ngõ, hẻm</td>\n",
              "      <td>Đã có sổ</td>\n",
              "      <td>4</td>\n",
              "      <td>5 phòng</td>\n",
              "      <td>46 m²</td>\n",
              "      <td>86,96 triệu/m²</td>\n",
              "    </tr>\n",
              "    <tr>\n",
              "      <th>1</th>\n",
              "      <td>2020-08-05</td>\n",
              "      <td>Đường Kim Giang, Phường Kim Giang, Quận Thanh ...</td>\n",
              "      <td>Quận Thanh Xuân</td>\n",
              "      <td>Phường Kim Giang</td>\n",
              "      <td>Nhà mặt phố, mặt tiền</td>\n",
              "      <td>NaN</td>\n",
              "      <td>NaN</td>\n",
              "      <td>3 phòng</td>\n",
              "      <td>37 m²</td>\n",
              "      <td>116,22 triệu/m²</td>\n",
              "    </tr>\n",
              "    <tr>\n",
              "      <th>2</th>\n",
              "      <td>2020-08-05</td>\n",
              "      <td>phố minh khai, Phường Minh Khai, Quận Hai Bà T...</td>\n",
              "      <td>Quận Hai Bà Trưng</td>\n",
              "      <td>Phường Minh Khai</td>\n",
              "      <td>Nhà ngõ, hẻm</td>\n",
              "      <td>Đã có sổ</td>\n",
              "      <td>4</td>\n",
              "      <td>4 phòng</td>\n",
              "      <td>40 m²</td>\n",
              "      <td>65 triệu/m²</td>\n",
              "    </tr>\n",
              "    <tr>\n",
              "      <th>3</th>\n",
              "      <td>2020-08-05</td>\n",
              "      <td>Đường Võng Thị, Phường Thụy Khuê, Quận Tây Hồ,...</td>\n",
              "      <td>Quận Tây Hồ</td>\n",
              "      <td>Phường Thụy Khuê</td>\n",
              "      <td>Nhà ngõ, hẻm</td>\n",
              "      <td>Đã có sổ</td>\n",
              "      <td>NaN</td>\n",
              "      <td>6 phòng</td>\n",
              "      <td>51 m²</td>\n",
              "      <td>100 triệu/m²</td>\n",
              "    </tr>\n",
              "    <tr>\n",
              "      <th>4</th>\n",
              "      <td>2020-08-05</td>\n",
              "      <td>Đường Kim Giang, Phường Kim Giang, Quận Thanh ...</td>\n",
              "      <td>Quận Thanh Xuân</td>\n",
              "      <td>Phường Kim Giang</td>\n",
              "      <td>Nhà ngõ, hẻm</td>\n",
              "      <td>NaN</td>\n",
              "      <td>NaN</td>\n",
              "      <td>4 phòng</td>\n",
              "      <td>36 m²</td>\n",
              "      <td>86,11 triệu/m²</td>\n",
              "    </tr>\n",
              "    <tr>\n",
              "      <th>...</th>\n",
              "      <td>...</td>\n",
              "      <td>...</td>\n",
              "      <td>...</td>\n",
              "      <td>...</td>\n",
              "      <td>...</td>\n",
              "      <td>...</td>\n",
              "      <td>...</td>\n",
              "      <td>...</td>\n",
              "      <td>...</td>\n",
              "      <td>...</td>\n",
              "    </tr>\n",
              "    <tr>\n",
              "      <th>82492</th>\n",
              "      <td>2019-08-07</td>\n",
              "      <td>Đường Trần Quốc Hoàn, Phường Quan Hoa, Quận Cầ...</td>\n",
              "      <td>Quận Cầu Giấy</td>\n",
              "      <td>Phường Quan Hoa</td>\n",
              "      <td>Nhà mặt phố, mặt tiền</td>\n",
              "      <td>NaN</td>\n",
              "      <td>NaN</td>\n",
              "      <td>3 phòng</td>\n",
              "      <td>50 m²</td>\n",
              "      <td>292 triệu/m²</td>\n",
              "    </tr>\n",
              "    <tr>\n",
              "      <th>82493</th>\n",
              "      <td>2019-08-07</td>\n",
              "      <td>Đường Nguyễn Khánh Toàn, Phường Quan Hoa, Quận...</td>\n",
              "      <td>Quận Cầu Giấy</td>\n",
              "      <td>Phường Quan Hoa</td>\n",
              "      <td>Nhà mặt phố, mặt tiền</td>\n",
              "      <td>Đã có sổ</td>\n",
              "      <td>NaN</td>\n",
              "      <td>4 phòng</td>\n",
              "      <td>41 m²</td>\n",
              "      <td>341,46 triệu/m²</td>\n",
              "    </tr>\n",
              "    <tr>\n",
              "      <th>82494</th>\n",
              "      <td>2019-08-05</td>\n",
              "      <td>Đường Quan Hoa, Phường Quan Hoa, Quận Cầu Giấy...</td>\n",
              "      <td>Quận Cầu Giấy</td>\n",
              "      <td>Phường Quan Hoa</td>\n",
              "      <td>Nhà ngõ, hẻm</td>\n",
              "      <td>Đã có sổ</td>\n",
              "      <td>NaN</td>\n",
              "      <td>4 phòng</td>\n",
              "      <td>60 m²</td>\n",
              "      <td>101,67 triệu/m²</td>\n",
              "    </tr>\n",
              "    <tr>\n",
              "      <th>82495</th>\n",
              "      <td>2019-08-05</td>\n",
              "      <td>Đường Hồ Tùng Mậu, Phường Mai Dịch, Quận Cầu G...</td>\n",
              "      <td>Quận Cầu Giấy</td>\n",
              "      <td>Phường Mai Dịch</td>\n",
              "      <td>Nhà phố liền kề</td>\n",
              "      <td>NaN</td>\n",
              "      <td>NaN</td>\n",
              "      <td>4 phòng</td>\n",
              "      <td>45 m²</td>\n",
              "      <td>102,22 triệu/m²</td>\n",
              "    </tr>\n",
              "    <tr>\n",
              "      <th>82496</th>\n",
              "      <td>NaN</td>\n",
              "      <td>NaN</td>\n",
              "      <td>NaN</td>\n",
              "      <td>NaN</td>\n",
              "      <td>NaN</td>\n",
              "      <td>NaN</td>\n",
              "      <td>NaN</td>\n",
              "      <td>NaN</td>\n",
              "      <td>NaN</td>\n",
              "      <td>NaN</td>\n",
              "    </tr>\n",
              "  </tbody>\n",
              "</table>\n",
              "<p>82497 rows × 10 columns</p>\n",
              "</div>"
            ],
            "text/plain": [
              "             Ngày                                            Địa chỉ  \\\n",
              "0      2020-08-05  Đường Hoàng Quốc Việt, Phường Nghĩa Đô, Quận C...   \n",
              "1      2020-08-05  Đường Kim Giang, Phường Kim Giang, Quận Thanh ...   \n",
              "2      2020-08-05  phố minh khai, Phường Minh Khai, Quận Hai Bà T...   \n",
              "3      2020-08-05  Đường Võng Thị, Phường Thụy Khuê, Quận Tây Hồ,...   \n",
              "4      2020-08-05  Đường Kim Giang, Phường Kim Giang, Quận Thanh ...   \n",
              "...           ...                                                ...   \n",
              "82492  2019-08-07  Đường Trần Quốc Hoàn, Phường Quan Hoa, Quận Cầ...   \n",
              "82493  2019-08-07  Đường Nguyễn Khánh Toàn, Phường Quan Hoa, Quận...   \n",
              "82494  2019-08-05  Đường Quan Hoa, Phường Quan Hoa, Quận Cầu Giấy...   \n",
              "82495  2019-08-05  Đường Hồ Tùng Mậu, Phường Mai Dịch, Quận Cầu G...   \n",
              "82496         NaN                                                NaN   \n",
              "\n",
              "                    Quận             Huyện        Loại hình nhà ở  \\\n",
              "0          Quận Cầu Giấy   Phường Nghĩa Đô           Nhà ngõ, hẻm   \n",
              "1        Quận Thanh Xuân  Phường Kim Giang  Nhà mặt phố, mặt tiền   \n",
              "2      Quận Hai Bà Trưng  Phường Minh Khai           Nhà ngõ, hẻm   \n",
              "3            Quận Tây Hồ  Phường Thụy Khuê           Nhà ngõ, hẻm   \n",
              "4        Quận Thanh Xuân  Phường Kim Giang           Nhà ngõ, hẻm   \n",
              "...                  ...               ...                    ...   \n",
              "82492      Quận Cầu Giấy   Phường Quan Hoa  Nhà mặt phố, mặt tiền   \n",
              "82493      Quận Cầu Giấy   Phường Quan Hoa  Nhà mặt phố, mặt tiền   \n",
              "82494      Quận Cầu Giấy   Phường Quan Hoa           Nhà ngõ, hẻm   \n",
              "82495      Quận Cầu Giấy   Phường Mai Dịch        Nhà phố liền kề   \n",
              "82496                NaN               NaN                    NaN   \n",
              "\n",
              "      Giấy tờ pháp lý Số tầng Số phòng ngủ Diện tích           Giá/m2  \n",
              "0            Đã có sổ       4      5 phòng     46 m²   86,96 triệu/m²  \n",
              "1                 NaN     NaN      3 phòng     37 m²  116,22 triệu/m²  \n",
              "2            Đã có sổ       4      4 phòng     40 m²      65 triệu/m²  \n",
              "3            Đã có sổ     NaN      6 phòng     51 m²     100 triệu/m²  \n",
              "4                 NaN     NaN      4 phòng     36 m²   86,11 triệu/m²  \n",
              "...               ...     ...          ...       ...              ...  \n",
              "82492             NaN     NaN      3 phòng     50 m²     292 triệu/m²  \n",
              "82493        Đã có sổ     NaN      4 phòng     41 m²  341,46 triệu/m²  \n",
              "82494        Đã có sổ     NaN      4 phòng     60 m²  101,67 triệu/m²  \n",
              "82495             NaN     NaN      4 phòng     45 m²  102,22 triệu/m²  \n",
              "82496             NaN     NaN          NaN       NaN              NaN  \n",
              "\n",
              "[82497 rows x 10 columns]"
            ]
          },
          "execution_count": 8,
          "metadata": {},
          "output_type": "execute_result"
        }
      ],
      "source": [
        "removed_cols = ['Unnamed: 0','Dài','Rộng']\n",
        "vn_house_df.drop(columns=removed_cols,inplace=True)\n",
        "vn_house_df"
      ]
    },
    {
      "cell_type": "markdown",
      "metadata": {
        "id": "08QFtNWcVDoa"
      },
      "source": [
        "Ta sẽ cập nhật lại numerical_cols"
      ]
    },
    {
      "cell_type": "code",
      "execution_count": 9,
      "metadata": {
        "id": "esfhOPiMVDob"
      },
      "outputs": [],
      "source": [
        "numerical_cols = ['Số tầng','Số phòng ngủ','Diện tích','Giá/m2']"
      ]
    },
    {
      "cell_type": "markdown",
      "metadata": {
        "id": "YLHSAlWGVDob"
      },
      "source": [
        "Tiếp theo, ta cần đổi các dạng dữ liệu ở các cột numerical sang số thay vì object. Ví dụ, cột \"Số phòng ngủ\" dư chữ phòng, ta sẽ muốn giữ lại số thôi. Tương tự với \"Diện tích\" và \"Giá/m2\" loại bỏ các đơn vị đo không cần thiết."
      ]
    },
    {
      "cell_type": "markdown",
      "metadata": {
        "id": "nZ8MZpe3VDob"
      },
      "source": [
        "Tuy nhiên, ta có các giá trị như đ/m2, tỷ/m2, ta sẽ bỏ qua các giá trị này bởi vì phần lớn dữ liệu tập trung ở triệu/m2.\n",
        "\n",
        "Ta vẫn có thể chuyển đổi giá trị tuy nhiên có thể khiến dữ liệu xuất hiện các outlier bởi vì tỷ/m2 quá lớn trong khi đ/m2 quá nhỏ."
      ]
    },
    {
      "cell_type": "code",
      "execution_count": 10,
      "metadata": {
        "colab": {
          "base_uri": "https://localhost:8080/",
          "height": 424
        },
        "id": "xHuNOf2yVDob",
        "outputId": "057213b5-f2cf-4ca1-cefb-09ad8590471e"
      },
      "outputs": [
        {
          "data": {
            "text/html": [
              "<div>\n",
              "<style scoped>\n",
              "    .dataframe tbody tr th:only-of-type {\n",
              "        vertical-align: middle;\n",
              "    }\n",
              "\n",
              "    .dataframe tbody tr th {\n",
              "        vertical-align: top;\n",
              "    }\n",
              "\n",
              "    .dataframe thead th {\n",
              "        text-align: right;\n",
              "    }\n",
              "</style>\n",
              "<table border=\"1\" class=\"dataframe\">\n",
              "  <thead>\n",
              "    <tr style=\"text-align: right;\">\n",
              "      <th></th>\n",
              "      <th>Ngày</th>\n",
              "      <th>Địa chỉ</th>\n",
              "      <th>Quận</th>\n",
              "      <th>Huyện</th>\n",
              "      <th>Loại hình nhà ở</th>\n",
              "      <th>Giấy tờ pháp lý</th>\n",
              "      <th>Số tầng</th>\n",
              "      <th>Số phòng ngủ</th>\n",
              "      <th>Diện tích</th>\n",
              "      <th>Giá/m2</th>\n",
              "    </tr>\n",
              "  </thead>\n",
              "  <tbody>\n",
              "    <tr>\n",
              "      <th>0</th>\n",
              "      <td>2020-08-05</td>\n",
              "      <td>Đường Hoàng Quốc Việt, Phường Nghĩa Đô, Quận C...</td>\n",
              "      <td>Quận Cầu Giấy</td>\n",
              "      <td>Phường Nghĩa Đô</td>\n",
              "      <td>Nhà ngõ, hẻm</td>\n",
              "      <td>Đã có sổ</td>\n",
              "      <td>4</td>\n",
              "      <td>5 phòng</td>\n",
              "      <td>46 m²</td>\n",
              "      <td>86,96 triệu/m²</td>\n",
              "    </tr>\n",
              "    <tr>\n",
              "      <th>1</th>\n",
              "      <td>2020-08-05</td>\n",
              "      <td>Đường Kim Giang, Phường Kim Giang, Quận Thanh ...</td>\n",
              "      <td>Quận Thanh Xuân</td>\n",
              "      <td>Phường Kim Giang</td>\n",
              "      <td>Nhà mặt phố, mặt tiền</td>\n",
              "      <td>NaN</td>\n",
              "      <td>NaN</td>\n",
              "      <td>3 phòng</td>\n",
              "      <td>37 m²</td>\n",
              "      <td>116,22 triệu/m²</td>\n",
              "    </tr>\n",
              "    <tr>\n",
              "      <th>2</th>\n",
              "      <td>2020-08-05</td>\n",
              "      <td>phố minh khai, Phường Minh Khai, Quận Hai Bà T...</td>\n",
              "      <td>Quận Hai Bà Trưng</td>\n",
              "      <td>Phường Minh Khai</td>\n",
              "      <td>Nhà ngõ, hẻm</td>\n",
              "      <td>Đã có sổ</td>\n",
              "      <td>4</td>\n",
              "      <td>4 phòng</td>\n",
              "      <td>40 m²</td>\n",
              "      <td>65 triệu/m²</td>\n",
              "    </tr>\n",
              "    <tr>\n",
              "      <th>3</th>\n",
              "      <td>2020-08-05</td>\n",
              "      <td>Đường Võng Thị, Phường Thụy Khuê, Quận Tây Hồ,...</td>\n",
              "      <td>Quận Tây Hồ</td>\n",
              "      <td>Phường Thụy Khuê</td>\n",
              "      <td>Nhà ngõ, hẻm</td>\n",
              "      <td>Đã có sổ</td>\n",
              "      <td>NaN</td>\n",
              "      <td>6 phòng</td>\n",
              "      <td>51 m²</td>\n",
              "      <td>100 triệu/m²</td>\n",
              "    </tr>\n",
              "    <tr>\n",
              "      <th>4</th>\n",
              "      <td>2020-08-05</td>\n",
              "      <td>Đường Kim Giang, Phường Kim Giang, Quận Thanh ...</td>\n",
              "      <td>Quận Thanh Xuân</td>\n",
              "      <td>Phường Kim Giang</td>\n",
              "      <td>Nhà ngõ, hẻm</td>\n",
              "      <td>NaN</td>\n",
              "      <td>NaN</td>\n",
              "      <td>4 phòng</td>\n",
              "      <td>36 m²</td>\n",
              "      <td>86,11 triệu/m²</td>\n",
              "    </tr>\n",
              "    <tr>\n",
              "      <th>...</th>\n",
              "      <td>...</td>\n",
              "      <td>...</td>\n",
              "      <td>...</td>\n",
              "      <td>...</td>\n",
              "      <td>...</td>\n",
              "      <td>...</td>\n",
              "      <td>...</td>\n",
              "      <td>...</td>\n",
              "      <td>...</td>\n",
              "      <td>...</td>\n",
              "    </tr>\n",
              "    <tr>\n",
              "      <th>82491</th>\n",
              "      <td>2019-08-23</td>\n",
              "      <td>Đường Hồ Tùng Mậu, Phường Phúc Diễn, Quận Bắc ...</td>\n",
              "      <td>Quận Bắc Từ Liêm</td>\n",
              "      <td>Phường Phúc Diễn</td>\n",
              "      <td>Nhà phố liền kề</td>\n",
              "      <td>NaN</td>\n",
              "      <td>NaN</td>\n",
              "      <td>3 phòng</td>\n",
              "      <td>38 m²</td>\n",
              "      <td>81,58 triệu/m²</td>\n",
              "    </tr>\n",
              "    <tr>\n",
              "      <th>82492</th>\n",
              "      <td>2019-08-07</td>\n",
              "      <td>Đường Trần Quốc Hoàn, Phường Quan Hoa, Quận Cầ...</td>\n",
              "      <td>Quận Cầu Giấy</td>\n",
              "      <td>Phường Quan Hoa</td>\n",
              "      <td>Nhà mặt phố, mặt tiền</td>\n",
              "      <td>NaN</td>\n",
              "      <td>NaN</td>\n",
              "      <td>3 phòng</td>\n",
              "      <td>50 m²</td>\n",
              "      <td>292 triệu/m²</td>\n",
              "    </tr>\n",
              "    <tr>\n",
              "      <th>82493</th>\n",
              "      <td>2019-08-07</td>\n",
              "      <td>Đường Nguyễn Khánh Toàn, Phường Quan Hoa, Quận...</td>\n",
              "      <td>Quận Cầu Giấy</td>\n",
              "      <td>Phường Quan Hoa</td>\n",
              "      <td>Nhà mặt phố, mặt tiền</td>\n",
              "      <td>Đã có sổ</td>\n",
              "      <td>NaN</td>\n",
              "      <td>4 phòng</td>\n",
              "      <td>41 m²</td>\n",
              "      <td>341,46 triệu/m²</td>\n",
              "    </tr>\n",
              "    <tr>\n",
              "      <th>82494</th>\n",
              "      <td>2019-08-05</td>\n",
              "      <td>Đường Quan Hoa, Phường Quan Hoa, Quận Cầu Giấy...</td>\n",
              "      <td>Quận Cầu Giấy</td>\n",
              "      <td>Phường Quan Hoa</td>\n",
              "      <td>Nhà ngõ, hẻm</td>\n",
              "      <td>Đã có sổ</td>\n",
              "      <td>NaN</td>\n",
              "      <td>4 phòng</td>\n",
              "      <td>60 m²</td>\n",
              "      <td>101,67 triệu/m²</td>\n",
              "    </tr>\n",
              "    <tr>\n",
              "      <th>82495</th>\n",
              "      <td>2019-08-05</td>\n",
              "      <td>Đường Hồ Tùng Mậu, Phường Mai Dịch, Quận Cầu G...</td>\n",
              "      <td>Quận Cầu Giấy</td>\n",
              "      <td>Phường Mai Dịch</td>\n",
              "      <td>Nhà phố liền kề</td>\n",
              "      <td>NaN</td>\n",
              "      <td>NaN</td>\n",
              "      <td>4 phòng</td>\n",
              "      <td>45 m²</td>\n",
              "      <td>102,22 triệu/m²</td>\n",
              "    </tr>\n",
              "  </tbody>\n",
              "</table>\n",
              "<p>81626 rows × 10 columns</p>\n",
              "</div>"
            ],
            "text/plain": [
              "             Ngày                                            Địa chỉ  \\\n",
              "0      2020-08-05  Đường Hoàng Quốc Việt, Phường Nghĩa Đô, Quận C...   \n",
              "1      2020-08-05  Đường Kim Giang, Phường Kim Giang, Quận Thanh ...   \n",
              "2      2020-08-05  phố minh khai, Phường Minh Khai, Quận Hai Bà T...   \n",
              "3      2020-08-05  Đường Võng Thị, Phường Thụy Khuê, Quận Tây Hồ,...   \n",
              "4      2020-08-05  Đường Kim Giang, Phường Kim Giang, Quận Thanh ...   \n",
              "...           ...                                                ...   \n",
              "82491  2019-08-23  Đường Hồ Tùng Mậu, Phường Phúc Diễn, Quận Bắc ...   \n",
              "82492  2019-08-07  Đường Trần Quốc Hoàn, Phường Quan Hoa, Quận Cầ...   \n",
              "82493  2019-08-07  Đường Nguyễn Khánh Toàn, Phường Quan Hoa, Quận...   \n",
              "82494  2019-08-05  Đường Quan Hoa, Phường Quan Hoa, Quận Cầu Giấy...   \n",
              "82495  2019-08-05  Đường Hồ Tùng Mậu, Phường Mai Dịch, Quận Cầu G...   \n",
              "\n",
              "                    Quận             Huyện        Loại hình nhà ở  \\\n",
              "0          Quận Cầu Giấy   Phường Nghĩa Đô           Nhà ngõ, hẻm   \n",
              "1        Quận Thanh Xuân  Phường Kim Giang  Nhà mặt phố, mặt tiền   \n",
              "2      Quận Hai Bà Trưng  Phường Minh Khai           Nhà ngõ, hẻm   \n",
              "3            Quận Tây Hồ  Phường Thụy Khuê           Nhà ngõ, hẻm   \n",
              "4        Quận Thanh Xuân  Phường Kim Giang           Nhà ngõ, hẻm   \n",
              "...                  ...               ...                    ...   \n",
              "82491   Quận Bắc Từ Liêm  Phường Phúc Diễn        Nhà phố liền kề   \n",
              "82492      Quận Cầu Giấy   Phường Quan Hoa  Nhà mặt phố, mặt tiền   \n",
              "82493      Quận Cầu Giấy   Phường Quan Hoa  Nhà mặt phố, mặt tiền   \n",
              "82494      Quận Cầu Giấy   Phường Quan Hoa           Nhà ngõ, hẻm   \n",
              "82495      Quận Cầu Giấy   Phường Mai Dịch        Nhà phố liền kề   \n",
              "\n",
              "      Giấy tờ pháp lý Số tầng Số phòng ngủ Diện tích           Giá/m2  \n",
              "0            Đã có sổ       4      5 phòng     46 m²   86,96 triệu/m²  \n",
              "1                 NaN     NaN      3 phòng     37 m²  116,22 triệu/m²  \n",
              "2            Đã có sổ       4      4 phòng     40 m²      65 triệu/m²  \n",
              "3            Đã có sổ     NaN      6 phòng     51 m²     100 triệu/m²  \n",
              "4                 NaN     NaN      4 phòng     36 m²   86,11 triệu/m²  \n",
              "...               ...     ...          ...       ...              ...  \n",
              "82491             NaN     NaN      3 phòng     38 m²   81,58 triệu/m²  \n",
              "82492             NaN     NaN      3 phòng     50 m²     292 triệu/m²  \n",
              "82493        Đã có sổ     NaN      4 phòng     41 m²  341,46 triệu/m²  \n",
              "82494        Đã có sổ     NaN      4 phòng     60 m²  101,67 triệu/m²  \n",
              "82495             NaN     NaN      4 phòng     45 m²  102,22 triệu/m²  \n",
              "\n",
              "[81626 rows x 10 columns]"
            ]
          },
          "execution_count": 10,
          "metadata": {},
          "output_type": "execute_result"
        }
      ],
      "source": [
        "vn_house_df = vn_house_df[vn_house_df['Giá/m2'].str.contains('triệu/m²') == True]\n",
        "vn_house_df"
      ]
    },
    {
      "cell_type": "code",
      "execution_count": 11,
      "metadata": {
        "id": "VlDExwuAVDoc"
      },
      "outputs": [],
      "source": [
        "def remove(x):\n",
        "    floor = \"Nhiều hơn 10\"\n",
        "    room = \"phòng\"\n",
        "    other_room = \"nhiều hơn 10 phòng\"\n",
        "    meter_squared = \"m²\"\n",
        "    milion_meter = \" triệu/m²\"\n",
        "    if floor in x:\n",
        "        x = int(x.replace(floor,'11'))\n",
        "    elif other_room in x:\n",
        "        x = 11\n",
        "    elif room in x:\n",
        "        x = int(x.replace(room,\"\"))\n",
        "    elif milion_meter in x:\n",
        "        x = x.replace(\",\",\"\")\n",
        "        x = float((x.replace(milion_meter,\"\")))\n",
        "    elif meter_squared in x:\n",
        "        x = float(x.replace(meter_squared,\"\"))\n",
        "    return x"
      ]
    },
    {
      "cell_type": "code",
      "execution_count": 12,
      "metadata": {
        "colab": {
          "base_uri": "https://localhost:8080/"
        },
        "id": "9-wZ7mIFVDoc",
        "outputId": "5229410c-f0d2-4898-cf6c-8e354ec8b3c9"
      },
      "outputs": [
        {
          "name": "stderr",
          "output_type": "stream",
          "text": [
            "C:\\Users\\HP\\AppData\\Local\\Temp\\ipykernel_31708\\55565920.py:3: SettingWithCopyWarning: \n",
            "A value is trying to be set on a copy of a slice from a DataFrame.\n",
            "Try using .loc[row_indexer,col_indexer] = value instead\n",
            "\n",
            "See the caveats in the documentation: https://pandas.pydata.org/pandas-docs/stable/user_guide/indexing.html#returning-a-view-versus-a-copy\n",
            "  vn_house_df[col] = data.apply(remove)\n",
            "C:\\Users\\HP\\AppData\\Local\\Temp\\ipykernel_31708\\55565920.py:4: SettingWithCopyWarning: \n",
            "A value is trying to be set on a copy of a slice from a DataFrame.\n",
            "Try using .loc[row_indexer,col_indexer] = value instead\n",
            "\n",
            "See the caveats in the documentation: https://pandas.pydata.org/pandas-docs/stable/user_guide/indexing.html#returning-a-view-versus-a-copy\n",
            "  vn_house_df['Số tầng'] = pd.to_numeric(vn_house_df['Số tầng'])\n"
          ]
        }
      ],
      "source": [
        "for col in numerical_cols:\n",
        "    data = vn_house_df[col].dropna()\n",
        "    vn_house_df[col] = data.apply(remove)\n",
        "vn_house_df['Số tầng'] = pd.to_numeric(vn_house_df['Số tầng'])"
      ]
    },
    {
      "cell_type": "code",
      "execution_count": 13,
      "metadata": {
        "colab": {
          "base_uri": "https://localhost:8080/",
          "height": 424
        },
        "id": "iWx1zIrMVDod",
        "outputId": "c2dad870-60a0-44f5-8382-4eaf38650e72"
      },
      "outputs": [
        {
          "data": {
            "text/html": [
              "<div>\n",
              "<style scoped>\n",
              "    .dataframe tbody tr th:only-of-type {\n",
              "        vertical-align: middle;\n",
              "    }\n",
              "\n",
              "    .dataframe tbody tr th {\n",
              "        vertical-align: top;\n",
              "    }\n",
              "\n",
              "    .dataframe thead th {\n",
              "        text-align: right;\n",
              "    }\n",
              "</style>\n",
              "<table border=\"1\" class=\"dataframe\">\n",
              "  <thead>\n",
              "    <tr style=\"text-align: right;\">\n",
              "      <th></th>\n",
              "      <th>Ngày</th>\n",
              "      <th>Địa chỉ</th>\n",
              "      <th>Quận</th>\n",
              "      <th>Huyện</th>\n",
              "      <th>Loại hình nhà ở</th>\n",
              "      <th>Giấy tờ pháp lý</th>\n",
              "      <th>Số tầng</th>\n",
              "      <th>Số phòng ngủ</th>\n",
              "      <th>Diện tích</th>\n",
              "      <th>Giá/m2</th>\n",
              "    </tr>\n",
              "  </thead>\n",
              "  <tbody>\n",
              "    <tr>\n",
              "      <th>0</th>\n",
              "      <td>2020-08-05</td>\n",
              "      <td>Đường Hoàng Quốc Việt, Phường Nghĩa Đô, Quận C...</td>\n",
              "      <td>Quận Cầu Giấy</td>\n",
              "      <td>Phường Nghĩa Đô</td>\n",
              "      <td>Nhà ngõ, hẻm</td>\n",
              "      <td>Đã có sổ</td>\n",
              "      <td>4.0</td>\n",
              "      <td>5.0</td>\n",
              "      <td>46.0</td>\n",
              "      <td>8696.0</td>\n",
              "    </tr>\n",
              "    <tr>\n",
              "      <th>1</th>\n",
              "      <td>2020-08-05</td>\n",
              "      <td>Đường Kim Giang, Phường Kim Giang, Quận Thanh ...</td>\n",
              "      <td>Quận Thanh Xuân</td>\n",
              "      <td>Phường Kim Giang</td>\n",
              "      <td>Nhà mặt phố, mặt tiền</td>\n",
              "      <td>NaN</td>\n",
              "      <td>NaN</td>\n",
              "      <td>3.0</td>\n",
              "      <td>37.0</td>\n",
              "      <td>11622.0</td>\n",
              "    </tr>\n",
              "    <tr>\n",
              "      <th>2</th>\n",
              "      <td>2020-08-05</td>\n",
              "      <td>phố minh khai, Phường Minh Khai, Quận Hai Bà T...</td>\n",
              "      <td>Quận Hai Bà Trưng</td>\n",
              "      <td>Phường Minh Khai</td>\n",
              "      <td>Nhà ngõ, hẻm</td>\n",
              "      <td>Đã có sổ</td>\n",
              "      <td>4.0</td>\n",
              "      <td>4.0</td>\n",
              "      <td>40.0</td>\n",
              "      <td>65.0</td>\n",
              "    </tr>\n",
              "    <tr>\n",
              "      <th>3</th>\n",
              "      <td>2020-08-05</td>\n",
              "      <td>Đường Võng Thị, Phường Thụy Khuê, Quận Tây Hồ,...</td>\n",
              "      <td>Quận Tây Hồ</td>\n",
              "      <td>Phường Thụy Khuê</td>\n",
              "      <td>Nhà ngõ, hẻm</td>\n",
              "      <td>Đã có sổ</td>\n",
              "      <td>NaN</td>\n",
              "      <td>6.0</td>\n",
              "      <td>51.0</td>\n",
              "      <td>100.0</td>\n",
              "    </tr>\n",
              "    <tr>\n",
              "      <th>4</th>\n",
              "      <td>2020-08-05</td>\n",
              "      <td>Đường Kim Giang, Phường Kim Giang, Quận Thanh ...</td>\n",
              "      <td>Quận Thanh Xuân</td>\n",
              "      <td>Phường Kim Giang</td>\n",
              "      <td>Nhà ngõ, hẻm</td>\n",
              "      <td>NaN</td>\n",
              "      <td>NaN</td>\n",
              "      <td>4.0</td>\n",
              "      <td>36.0</td>\n",
              "      <td>8611.0</td>\n",
              "    </tr>\n",
              "    <tr>\n",
              "      <th>...</th>\n",
              "      <td>...</td>\n",
              "      <td>...</td>\n",
              "      <td>...</td>\n",
              "      <td>...</td>\n",
              "      <td>...</td>\n",
              "      <td>...</td>\n",
              "      <td>...</td>\n",
              "      <td>...</td>\n",
              "      <td>...</td>\n",
              "      <td>...</td>\n",
              "    </tr>\n",
              "    <tr>\n",
              "      <th>82491</th>\n",
              "      <td>2019-08-23</td>\n",
              "      <td>Đường Hồ Tùng Mậu, Phường Phúc Diễn, Quận Bắc ...</td>\n",
              "      <td>Quận Bắc Từ Liêm</td>\n",
              "      <td>Phường Phúc Diễn</td>\n",
              "      <td>Nhà phố liền kề</td>\n",
              "      <td>NaN</td>\n",
              "      <td>NaN</td>\n",
              "      <td>3.0</td>\n",
              "      <td>38.0</td>\n",
              "      <td>8158.0</td>\n",
              "    </tr>\n",
              "    <tr>\n",
              "      <th>82492</th>\n",
              "      <td>2019-08-07</td>\n",
              "      <td>Đường Trần Quốc Hoàn, Phường Quan Hoa, Quận Cầ...</td>\n",
              "      <td>Quận Cầu Giấy</td>\n",
              "      <td>Phường Quan Hoa</td>\n",
              "      <td>Nhà mặt phố, mặt tiền</td>\n",
              "      <td>NaN</td>\n",
              "      <td>NaN</td>\n",
              "      <td>3.0</td>\n",
              "      <td>50.0</td>\n",
              "      <td>292.0</td>\n",
              "    </tr>\n",
              "    <tr>\n",
              "      <th>82493</th>\n",
              "      <td>2019-08-07</td>\n",
              "      <td>Đường Nguyễn Khánh Toàn, Phường Quan Hoa, Quận...</td>\n",
              "      <td>Quận Cầu Giấy</td>\n",
              "      <td>Phường Quan Hoa</td>\n",
              "      <td>Nhà mặt phố, mặt tiền</td>\n",
              "      <td>Đã có sổ</td>\n",
              "      <td>NaN</td>\n",
              "      <td>4.0</td>\n",
              "      <td>41.0</td>\n",
              "      <td>34146.0</td>\n",
              "    </tr>\n",
              "    <tr>\n",
              "      <th>82494</th>\n",
              "      <td>2019-08-05</td>\n",
              "      <td>Đường Quan Hoa, Phường Quan Hoa, Quận Cầu Giấy...</td>\n",
              "      <td>Quận Cầu Giấy</td>\n",
              "      <td>Phường Quan Hoa</td>\n",
              "      <td>Nhà ngõ, hẻm</td>\n",
              "      <td>Đã có sổ</td>\n",
              "      <td>NaN</td>\n",
              "      <td>4.0</td>\n",
              "      <td>60.0</td>\n",
              "      <td>10167.0</td>\n",
              "    </tr>\n",
              "    <tr>\n",
              "      <th>82495</th>\n",
              "      <td>2019-08-05</td>\n",
              "      <td>Đường Hồ Tùng Mậu, Phường Mai Dịch, Quận Cầu G...</td>\n",
              "      <td>Quận Cầu Giấy</td>\n",
              "      <td>Phường Mai Dịch</td>\n",
              "      <td>Nhà phố liền kề</td>\n",
              "      <td>NaN</td>\n",
              "      <td>NaN</td>\n",
              "      <td>4.0</td>\n",
              "      <td>45.0</td>\n",
              "      <td>10222.0</td>\n",
              "    </tr>\n",
              "  </tbody>\n",
              "</table>\n",
              "<p>81626 rows × 10 columns</p>\n",
              "</div>"
            ],
            "text/plain": [
              "             Ngày                                            Địa chỉ  \\\n",
              "0      2020-08-05  Đường Hoàng Quốc Việt, Phường Nghĩa Đô, Quận C...   \n",
              "1      2020-08-05  Đường Kim Giang, Phường Kim Giang, Quận Thanh ...   \n",
              "2      2020-08-05  phố minh khai, Phường Minh Khai, Quận Hai Bà T...   \n",
              "3      2020-08-05  Đường Võng Thị, Phường Thụy Khuê, Quận Tây Hồ,...   \n",
              "4      2020-08-05  Đường Kim Giang, Phường Kim Giang, Quận Thanh ...   \n",
              "...           ...                                                ...   \n",
              "82491  2019-08-23  Đường Hồ Tùng Mậu, Phường Phúc Diễn, Quận Bắc ...   \n",
              "82492  2019-08-07  Đường Trần Quốc Hoàn, Phường Quan Hoa, Quận Cầ...   \n",
              "82493  2019-08-07  Đường Nguyễn Khánh Toàn, Phường Quan Hoa, Quận...   \n",
              "82494  2019-08-05  Đường Quan Hoa, Phường Quan Hoa, Quận Cầu Giấy...   \n",
              "82495  2019-08-05  Đường Hồ Tùng Mậu, Phường Mai Dịch, Quận Cầu G...   \n",
              "\n",
              "                    Quận             Huyện        Loại hình nhà ở  \\\n",
              "0          Quận Cầu Giấy   Phường Nghĩa Đô           Nhà ngõ, hẻm   \n",
              "1        Quận Thanh Xuân  Phường Kim Giang  Nhà mặt phố, mặt tiền   \n",
              "2      Quận Hai Bà Trưng  Phường Minh Khai           Nhà ngõ, hẻm   \n",
              "3            Quận Tây Hồ  Phường Thụy Khuê           Nhà ngõ, hẻm   \n",
              "4        Quận Thanh Xuân  Phường Kim Giang           Nhà ngõ, hẻm   \n",
              "...                  ...               ...                    ...   \n",
              "82491   Quận Bắc Từ Liêm  Phường Phúc Diễn        Nhà phố liền kề   \n",
              "82492      Quận Cầu Giấy   Phường Quan Hoa  Nhà mặt phố, mặt tiền   \n",
              "82493      Quận Cầu Giấy   Phường Quan Hoa  Nhà mặt phố, mặt tiền   \n",
              "82494      Quận Cầu Giấy   Phường Quan Hoa           Nhà ngõ, hẻm   \n",
              "82495      Quận Cầu Giấy   Phường Mai Dịch        Nhà phố liền kề   \n",
              "\n",
              "      Giấy tờ pháp lý  Số tầng  Số phòng ngủ  Diện tích   Giá/m2  \n",
              "0            Đã có sổ      4.0           5.0       46.0   8696.0  \n",
              "1                 NaN      NaN           3.0       37.0  11622.0  \n",
              "2            Đã có sổ      4.0           4.0       40.0     65.0  \n",
              "3            Đã có sổ      NaN           6.0       51.0    100.0  \n",
              "4                 NaN      NaN           4.0       36.0   8611.0  \n",
              "...               ...      ...           ...        ...      ...  \n",
              "82491             NaN      NaN           3.0       38.0   8158.0  \n",
              "82492             NaN      NaN           3.0       50.0    292.0  \n",
              "82493        Đã có sổ      NaN           4.0       41.0  34146.0  \n",
              "82494        Đã có sổ      NaN           4.0       60.0  10167.0  \n",
              "82495             NaN      NaN           4.0       45.0  10222.0  \n",
              "\n",
              "[81626 rows x 10 columns]"
            ]
          },
          "execution_count": 13,
          "metadata": {},
          "output_type": "execute_result"
        }
      ],
      "source": [
        "vn_house_df"
      ]
    },
    {
      "cell_type": "markdown",
      "metadata": {
        "id": "LhhKqsP7VDod"
      },
      "source": [
        "Tiền xử lý hoàn thành"
      ]
    },
    {
      "cell_type": "markdown",
      "metadata": {
        "id": "aHawm0ooVDod"
      },
      "source": [
        "## Thống kê mô tả"
      ]
    },
    {
      "cell_type": "markdown",
      "metadata": {
        "id": "gbtbICEbVDoe"
      },
      "source": [
        "Chúng ta sẽ thống kê các đại lượng trong thống kê mô tả như sau:\n",
        "* Giá trị trung bình: mean\n",
        "* Độ lệch chuẩn: std\n",
        "* Giá trị nhỏ nhất: min\n",
        "* Tứ phân vị thứ nhất: Q1\n",
        "* Tứ phân vị thứ hai: Q2, hay còn gọi là trung vị: median\n",
        "* Tứ phân vị thứ ba: Q3\n",
        "* Giá trị lớn nhất: max"
      ]
    },
    {
      "cell_type": "code",
      "execution_count": 14,
      "metadata": {
        "colab": {
          "base_uri": "https://localhost:8080/",
          "height": 300
        },
        "id": "7AHJh4g_VDoe",
        "outputId": "029bef3d-348b-4d1a-b28a-e9a3e021e069"
      },
      "outputs": [
        {
          "data": {
            "text/html": [
              "<div>\n",
              "<style scoped>\n",
              "    .dataframe tbody tr th:only-of-type {\n",
              "        vertical-align: middle;\n",
              "    }\n",
              "\n",
              "    .dataframe tbody tr th {\n",
              "        vertical-align: top;\n",
              "    }\n",
              "\n",
              "    .dataframe thead th {\n",
              "        text-align: right;\n",
              "    }\n",
              "</style>\n",
              "<table border=\"1\" class=\"dataframe\">\n",
              "  <thead>\n",
              "    <tr style=\"text-align: right;\">\n",
              "      <th></th>\n",
              "      <th>Số tầng</th>\n",
              "      <th>Số phòng ngủ</th>\n",
              "      <th>Diện tích</th>\n",
              "      <th>Giá/m2</th>\n",
              "    </tr>\n",
              "  </thead>\n",
              "  <tbody>\n",
              "    <tr>\n",
              "      <th>count</th>\n",
              "      <td>36051.000000</td>\n",
              "      <td>81588.000000</td>\n",
              "      <td>81626.000000</td>\n",
              "      <td>81626.000000</td>\n",
              "    </tr>\n",
              "    <tr>\n",
              "      <th>mean</th>\n",
              "      <td>4.461735</td>\n",
              "      <td>3.880166</td>\n",
              "      <td>47.732516</td>\n",
              "      <td>7391.390746</td>\n",
              "    </tr>\n",
              "    <tr>\n",
              "      <th>std</th>\n",
              "      <td>1.555215</td>\n",
              "      <td>1.495723</td>\n",
              "      <td>63.173632</td>\n",
              "      <td>6828.196694</td>\n",
              "    </tr>\n",
              "    <tr>\n",
              "      <th>min</th>\n",
              "      <td>1.000000</td>\n",
              "      <td>1.000000</td>\n",
              "      <td>2.000000</td>\n",
              "      <td>1.000000</td>\n",
              "    </tr>\n",
              "    <tr>\n",
              "      <th>25%</th>\n",
              "      <td>4.000000</td>\n",
              "      <td>3.000000</td>\n",
              "      <td>34.000000</td>\n",
              "      <td>925.000000</td>\n",
              "    </tr>\n",
              "    <tr>\n",
              "      <th>50%</th>\n",
              "      <td>5.000000</td>\n",
              "      <td>4.000000</td>\n",
              "      <td>40.000000</td>\n",
              "      <td>7657.000000</td>\n",
              "    </tr>\n",
              "    <tr>\n",
              "      <th>75%</th>\n",
              "      <td>5.000000</td>\n",
              "      <td>4.000000</td>\n",
              "      <td>50.000000</td>\n",
              "      <td>9848.000000</td>\n",
              "    </tr>\n",
              "    <tr>\n",
              "      <th>max</th>\n",
              "      <td>73.000000</td>\n",
              "      <td>11.000000</td>\n",
              "      <td>10360.000000</td>\n",
              "      <td>98361.000000</td>\n",
              "    </tr>\n",
              "  </tbody>\n",
              "</table>\n",
              "</div>"
            ],
            "text/plain": [
              "            Số tầng  Số phòng ngủ     Diện tích        Giá/m2\n",
              "count  36051.000000  81588.000000  81626.000000  81626.000000\n",
              "mean       4.461735      3.880166     47.732516   7391.390746\n",
              "std        1.555215      1.495723     63.173632   6828.196694\n",
              "min        1.000000      1.000000      2.000000      1.000000\n",
              "25%        4.000000      3.000000     34.000000    925.000000\n",
              "50%        5.000000      4.000000     40.000000   7657.000000\n",
              "75%        5.000000      4.000000     50.000000   9848.000000\n",
              "max       73.000000     11.000000  10360.000000  98361.000000"
            ]
          },
          "execution_count": 14,
          "metadata": {},
          "output_type": "execute_result"
        }
      ],
      "source": [
        "vn_house_df.describe()"
      ]
    },
    {
      "cell_type": "markdown",
      "metadata": {
        "id": "n2HsEuNgVDoe"
      },
      "source": [
        "Trực quan hóa cho thuộc tính \"Số phòng ngủ\" thông qua biểu đồ hộp và rút ra các thông số thống kê"
      ]
    },
    {
      "cell_type": "code",
      "execution_count": 15,
      "metadata": {
        "colab": {
          "base_uri": "https://localhost:8080/",
          "height": 297
        },
        "id": "oAp4dxT6VDoe",
        "outputId": "39abe916-0c63-4ceb-800e-c19a97ed5621"
      },
      "outputs": [
        {
          "data": {
            "text/plain": [
              "<AxesSubplot:xlabel='Số phòng ngủ'>"
            ]
          },
          "execution_count": 15,
          "metadata": {},
          "output_type": "execute_result"
        },
        {
          "data": {
            "image/png": "[encoded data removed]",
            "text/plain": [
              "<Figure size 432x288 with 1 Axes>"
            ]
          },
          "metadata": {
            "needs_background": "light"
          },
          "output_type": "display_data"
        }
      ],
      "source": [
        "sns.boxplot(x='Số phòng ngủ', data=vn_house_df)"
      ]
    },
    {
      "cell_type": "markdown",
      "metadata": {
        "id": "2oJzTumbVDoe"
      },
      "source": [
        "* mean = 3.880166\n",
        "* std = 1.495723\n",
        "* min = 1.000000\n",
        "* Q1 = 3.000000\n",
        "* Q2 = median = 4.000000\n",
        "* Q3 = 4.000000\n",
        "* max = 11.000000"
      ]
    },
    {
      "cell_type": "markdown",
      "metadata": {},
      "source": [
        "Quan sát biểu đồ hộp tương ứng cho thuộc tính \"Số phòng ngủ\", rút ra được một số nhận xét sau:\n",
        "* Giá trị trung bình là 3.88, trung vị là 4.00\n",
        "* Khoảng dữ liệu là max-min = 10.00\n",
        "* Khoảng tứ phân vị IQR = Q3-Q1 = 1.00\n",
        "* Nhận thấy tập dữ liệu bị lệch trái\n",
        "* Nhìn chung, số phòng ngủ đều tập trung xung quanh giá trị 2, 3 phòng ngủ. Tính toán hệ số dao động cv cho thấy cv < 1, nên dữ liệu dao động trung bình yếu. Có một số giá trị đột biến (như 6, 11 phòng ngủ)."
      ]
    },
    {
      "cell_type": "markdown",
      "metadata": {
        "id": "V4XIn0jcVDof"
      },
      "source": [
        "Trực quan hóa cho thuộc tính \"Số tầng\" thông qua biểu đồ hộp và rút ra các thông số thống kê"
      ]
    },
    {
      "cell_type": "code",
      "execution_count": 16,
      "metadata": {
        "colab": {
          "base_uri": "https://localhost:8080/",
          "height": 297
        },
        "id": "d3ymEQu-VDof",
        "outputId": "674a4ef7-3ebb-42fe-80db-e2d402f1e14f"
      },
      "outputs": [
        {
          "data": {
            "text/plain": [
              "<AxesSubplot:xlabel='Số tầng'>"
            ]
          },
          "execution_count": 16,
          "metadata": {},
          "output_type": "execute_result"
        },
        {
          "data": {
            "image/png": "[encoded data removed]",
            "text/plain": [
              "<Figure size 432x288 with 1 Axes>"
            ]
          },
          "metadata": {
            "needs_background": "light"
          },
          "output_type": "display_data"
        }
      ],
      "source": [
        "sns.boxplot(x='Số tầng', data=vn_house_df)"
      ]
    },
    {
      "cell_type": "markdown",
      "metadata": {
        "id": "KrUOu5quVDof"
      },
      "source": [
        "* mean = 4.461735\n",
        "* std = 1.555215\t\n",
        "* min = 1.000000\n",
        "* Q1 = 4.000000\n",
        "* Q2 = median = 4.000000\n",
        "* Q3 = 5.000000\n",
        "* max = 73.000000"
      ]
    },
    {
      "cell_type": "markdown",
      "metadata": {},
      "source": [
        "Quan sát biểu đồ hộp tương ứng cho thuộc tính \"Số tầng\", rút ra được một số nhận xét sau:\n",
        "* Giá trị trung bình là 4.46, trung vị là 4.00\n",
        "* Khoảng dữ liệu là max-min = 72.00\n",
        "* Khoảng tứ phân vị IQR = Q3-Q1 = 1.00\n",
        "* Nhận thấy tập dữ liệu bị lệch phải\n",
        "* Tính toán hệ số dao động cv, cho thấy cv < 1, nên dữ liệu dao động trung bình yếu. Dữ liệu ngoại lai khá nhiều và dày đặc"
      ]
    },
    {
      "cell_type": "markdown",
      "metadata": {
        "id": "mMo_OtmPVDof"
      },
      "source": [
        "Trực quan hóa cho thuộc tính \"Diện tích\" thông qua biểu đồ hộp và rút ra các thông số thống kê"
      ]
    },
    {
      "cell_type": "code",
      "execution_count": 17,
      "metadata": {
        "colab": {
          "base_uri": "https://localhost:8080/",
          "height": 297
        },
        "id": "eixQwO_uVDof",
        "outputId": "f1b3775b-ed8b-498f-f861-4a4f793e3a03"
      },
      "outputs": [
        {
          "data": {
            "text/plain": [
              "<AxesSubplot:xlabel='Diện tích'>"
            ]
          },
          "execution_count": 17,
          "metadata": {},
          "output_type": "execute_result"
        },
        {
          "data": {
            "image/png": "[encoded data removed]",
            "text/plain": [
              "<Figure size 432x288 with 1 Axes>"
            ]
          },
          "metadata": {
            "needs_background": "light"
          },
          "output_type": "display_data"
        }
      ],
      "source": [
        "sns.boxplot(x='Diện tích', data=vn_house_df)"
      ]
    },
    {
      "cell_type": "markdown",
      "metadata": {
        "id": "OG-3AzlMVDof"
      },
      "source": [
        "* mean = 47.732516\n",
        "* std = 63.173632\t\n",
        "* min = 2.000000\n",
        "* Q1 = 34.000000\n",
        "* Q2 = median = 40.000000\n",
        "* Q3 = 50.000000\n",
        "* max = 10360.000000"
      ]
    },
    {
      "cell_type": "markdown",
      "metadata": {},
      "source": [
        "Quan sát biểu đồ hộp tương ứng cho thuộc tính \"Diện tích\", rút ra được một số nhận xét sau:\n",
        "* Giá trị trung bình là 47.73, trung vị là 40.00\n",
        "* Khoảng dữ liệu là max-min = 10358.00\n",
        "* Khoảng tứ phân vị IQR = Q3-Q1 = 16.00\n",
        "* Nhận thấy tập dữ liệu bị lệch phải\n",
        "* Tính toán hệ số dao động cv, cho thấy cv > 1, nên dữ liệu dao động rất mạnh. Dữ liệu ngoại lai khá nhiều và dày đặc, có một điểm đột biến bất thường ở giá trị 10360"
      ]
    },
    {
      "cell_type": "markdown",
      "metadata": {
        "id": "YhCcEaazVDog"
      },
      "source": [
        "Trực quan hóa cho thuộc tính \"Giá/m2\" thông qua biểu đồ hộp và rút ra các thông số thống kê"
      ]
    },
    {
      "cell_type": "code",
      "execution_count": 18,
      "metadata": {
        "colab": {
          "base_uri": "https://localhost:8080/",
          "height": 296
        },
        "id": "4k7sXS-QVDog",
        "outputId": "2043c6dd-c4bf-4dd5-8cb7-70c401e2534c"
      },
      "outputs": [
        {
          "data": {
            "text/plain": [
              "<AxesSubplot:xlabel='Giá/m2'>"
            ]
          },
          "execution_count": 18,
          "metadata": {},
          "output_type": "execute_result"
        },
        {
          "data": {
            "image/png": "[encoded data removed]",
            "text/plain": [
              "<Figure size 432x288 with 1 Axes>"
            ]
          },
          "metadata": {
            "needs_background": "light"
          },
          "output_type": "display_data"
        }
      ],
      "source": [
        "sns.boxplot(x='Giá/m2', data=vn_house_df)"
      ]
    },
    {
      "cell_type": "markdown",
      "metadata": {
        "id": "7JWFOGXnVDog"
      },
      "source": [
        "* mean = 7391.390746\n",
        "* std = 6828.196694\n",
        "* min = 1.000000\n",
        "* Q1 = 925.000000\n",
        "* Q2 = median = 7657.000000\n",
        "* Q3 = 9848.000000\n",
        "* max = 98361.000000"
      ]
    },
    {
      "cell_type": "markdown",
      "metadata": {},
      "source": [
        "Quan sát biểu đồ hộp tương ứng cho thuộc tính \"Giá/m2\", rút ra được một số nhận xét sau:\n",
        "* Giá trị trung bình là 7391.390746, trung vị là 7657.000000\n",
        "* Khoảng dữ liệu là max-min = 98360.00\n",
        "* Khoảng tứ phân vị IQR = Q3-Q1 = 8923.00\n",
        "* Nhận thấy tập dữ liệu bị lệch trái\n",
        "* Tính toán hệ số dao động cv, cho thấy cv < 1, nên dữ liệu dao động trung bình yếu. Dữ liệu ngoại lai khá nhiều và dày đặc."
      ]
    },
    {
      "cell_type": "markdown",
      "metadata": {
        "id": "CwH0boALVDog"
      },
      "source": [
        "## Phân tích dữ liệu"
      ]
    },
    {
      "cell_type": "markdown",
      "metadata": {
        "id": "EJC9hVNbVDog"
      },
      "source": [
        "### Với mỗi cột numerical, dữ liệu được phân bố như thế nào?"
      ]
    },
    {
      "cell_type": "code",
      "execution_count": 19,
      "metadata": {
        "colab": {
          "base_uri": "https://localhost:8080/",
          "height": 143
        },
        "id": "DMfQldmDVDoh",
        "outputId": "c9f7380c-3e39-4104-baa3-1ec7c6eae495"
      },
      "outputs": [
        {
          "data": {
            "text/html": [
              "<div>\n",
              "<style scoped>\n",
              "    .dataframe tbody tr th:only-of-type {\n",
              "        vertical-align: middle;\n",
              "    }\n",
              "\n",
              "    .dataframe tbody tr th {\n",
              "        vertical-align: top;\n",
              "    }\n",
              "\n",
              "    .dataframe thead th {\n",
              "        text-align: right;\n",
              "    }\n",
              "</style>\n",
              "<table border=\"1\" class=\"dataframe\">\n",
              "  <thead>\n",
              "    <tr style=\"text-align: right;\">\n",
              "      <th></th>\n",
              "      <th>Số tầng</th>\n",
              "      <th>Số phòng ngủ</th>\n",
              "      <th>Diện tích</th>\n",
              "      <th>Giá/m2</th>\n",
              "    </tr>\n",
              "  </thead>\n",
              "  <tbody>\n",
              "    <tr>\n",
              "      <th>missing_ratio</th>\n",
              "      <td>55.833925</td>\n",
              "      <td>0.046554</td>\n",
              "      <td>0.0</td>\n",
              "      <td>0.0</td>\n",
              "    </tr>\n",
              "    <tr>\n",
              "      <th>min</th>\n",
              "      <td>1.000000</td>\n",
              "      <td>1.000000</td>\n",
              "      <td>2.0</td>\n",
              "      <td>1.0</td>\n",
              "    </tr>\n",
              "    <tr>\n",
              "      <th>max</th>\n",
              "      <td>73.000000</td>\n",
              "      <td>11.000000</td>\n",
              "      <td>10360.0</td>\n",
              "      <td>98361.0</td>\n",
              "    </tr>\n",
              "  </tbody>\n",
              "</table>\n",
              "</div>"
            ],
            "text/plain": [
              "                 Số tầng  Số phòng ngủ  Diện tích   Giá/m2\n",
              "missing_ratio  55.833925      0.046554        0.0      0.0\n",
              "min             1.000000      1.000000        2.0      1.0\n",
              "max            73.000000     11.000000    10360.0  98361.0"
            ]
          },
          "execution_count": 19,
          "metadata": {},
          "output_type": "execute_result"
        }
      ],
      "source": [
        "def missing_ratio(col):\n",
        "    return col.isna().mean() * 100\n",
        "nume_col_profiles_df = vn_house_df[numerical_cols].agg([missing_ratio,pd.Series.min,pd.Series.max])\n",
        "nume_col_profiles_df"
      ]
    },
    {
      "cell_type": "markdown",
      "metadata": {
        "id": "hU6sODF8VDoh"
      },
      "source": [
        "Như ta thấy, số lượng min max của mỗi cột đều khá hợp lý, nên ta sẽ xét lượng missing_ratio"
      ]
    },
    {
      "cell_type": "markdown",
      "metadata": {
        "id": "aS6FI-hEVDoh"
      },
      "source": [
        "Cột diện tích và Giá/m2 không bị thiếu dữ liệu. Số phòng ngủ thì chỉ thiếu khoảng 0.05%, không đáng kể. Điều bất thường ở đây là số tầng thì lại thiếu tới 55,8% tới hơn 1 nửa tổng dữ liệu. Khá là kỳ lạ"
      ]
    },
    {
      "cell_type": "markdown",
      "metadata": {
        "id": "meSb3uuBVDoh"
      },
      "source": [
        "Ở đây ta sẽ thực hiện 2 việc:\n",
        "- Bỏ những dòng giá trị nan ở cột số phòng ngủ\n",
        "- Thay giá trị nan ở cột số tầng thành 0."
      ]
    },
    {
      "cell_type": "code",
      "execution_count": 20,
      "metadata": {
        "colab": {
          "base_uri": "https://localhost:8080/"
        },
        "id": "ZX6IVF-dVDoh",
        "outputId": "65bda912-b02c-45a2-a35f-134c738973a8"
      },
      "outputs": [
        {
          "name": "stderr",
          "output_type": "stream",
          "text": [
            "C:\\Users\\HP\\AppData\\Local\\Temp\\ipykernel_31708\\2027813643.py:1: SettingWithCopyWarning: \n",
            "A value is trying to be set on a copy of a slice from a DataFrame\n",
            "\n",
            "See the caveats in the documentation: https://pandas.pydata.org/pandas-docs/stable/user_guide/indexing.html#returning-a-view-versus-a-copy\n",
            "  vn_house_df.dropna(subset=['Số phòng ngủ'], how='all', inplace=True)\n"
          ]
        }
      ],
      "source": [
        "vn_house_df.dropna(subset=['Số phòng ngủ'], how='all', inplace=True)"
      ]
    },
    {
      "cell_type": "code",
      "execution_count": 21,
      "metadata": {
        "colab": {
          "base_uri": "https://localhost:8080/"
        },
        "id": "oXCqjuo5VDoh",
        "outputId": "3b839b07-6a8a-4ee0-9d5d-9f2cda5d5502"
      },
      "outputs": [
        {
          "name": "stderr",
          "output_type": "stream",
          "text": [
            "C:\\Users\\HP\\AppData\\Local\\Temp\\ipykernel_31708\\973119589.py:1: SettingWithCopyWarning: \n",
            "A value is trying to be set on a copy of a slice from a DataFrame.\n",
            "Try using .loc[row_indexer,col_indexer] = value instead\n",
            "\n",
            "See the caveats in the documentation: https://pandas.pydata.org/pandas-docs/stable/user_guide/indexing.html#returning-a-view-versus-a-copy\n",
            "  vn_house_df['Số tầng'] = vn_house_df['Số tầng'].fillna(0)\n"
          ]
        }
      ],
      "source": [
        "vn_house_df['Số tầng'] = vn_house_df['Số tầng'].fillna(0)"
      ]
    },
    {
      "cell_type": "markdown",
      "metadata": {
        "id": "WInwn_yBVDoi"
      },
      "source": [
        "Giờ ta hãy kiểm tra lại missing ratio"
      ]
    },
    {
      "cell_type": "code",
      "execution_count": 22,
      "metadata": {
        "colab": {
          "base_uri": "https://localhost:8080/",
          "height": 81
        },
        "id": "ha-kVNp0VDoi",
        "outputId": "112c2ee7-5569-492b-ea35-9e91be5f742a"
      },
      "outputs": [
        {
          "data": {
            "text/html": [
              "<div>\n",
              "<style scoped>\n",
              "    .dataframe tbody tr th:only-of-type {\n",
              "        vertical-align: middle;\n",
              "    }\n",
              "\n",
              "    .dataframe tbody tr th {\n",
              "        vertical-align: top;\n",
              "    }\n",
              "\n",
              "    .dataframe thead th {\n",
              "        text-align: right;\n",
              "    }\n",
              "</style>\n",
              "<table border=\"1\" class=\"dataframe\">\n",
              "  <thead>\n",
              "    <tr style=\"text-align: right;\">\n",
              "      <th></th>\n",
              "      <th>Số tầng</th>\n",
              "      <th>Số phòng ngủ</th>\n",
              "      <th>Diện tích</th>\n",
              "      <th>Giá/m2</th>\n",
              "    </tr>\n",
              "  </thead>\n",
              "  <tbody>\n",
              "    <tr>\n",
              "      <th>missing_ratio</th>\n",
              "      <td>0.0</td>\n",
              "      <td>0.0</td>\n",
              "      <td>0.0</td>\n",
              "      <td>0.0</td>\n",
              "    </tr>\n",
              "    <tr>\n",
              "      <th>min</th>\n",
              "      <td>0.0</td>\n",
              "      <td>1.0</td>\n",
              "      <td>2.0</td>\n",
              "      <td>1.0</td>\n",
              "    </tr>\n",
              "    <tr>\n",
              "      <th>max</th>\n",
              "      <td>73.0</td>\n",
              "      <td>11.0</td>\n",
              "      <td>10360.0</td>\n",
              "      <td>98361.0</td>\n",
              "    </tr>\n",
              "  </tbody>\n",
              "</table>\n",
              "</div>"
            ],
            "text/plain": [
              "               Số tầng  Số phòng ngủ  Diện tích   Giá/m2\n",
              "missing_ratio      0.0           0.0        0.0      0.0\n",
              "min                0.0           1.0        2.0      1.0\n",
              "max               73.0          11.0    10360.0  98361.0"
            ]
          },
          "execution_count": 22,
          "metadata": {},
          "output_type": "execute_result"
        }
      ],
      "source": [
        "nume_col_profiles_df = vn_house_df[numerical_cols].agg([missing_ratio,pd.Series.min,pd.Series.max])\n",
        "nume_col_profiles_df"
      ]
    },
    {
      "cell_type": "markdown",
      "metadata": {
        "id": "hq_vfAVZVDoi"
      },
      "source": [
        "### Với mỗi cột categorical, dữ liệu được phân bố như thế nào?"
      ]
    },
    {
      "cell_type": "code",
      "execution_count": 23,
      "metadata": {
        "colab": {
          "base_uri": "https://localhost:8080/",
          "height": 143
        },
        "id": "iW5kxKHlVDoi",
        "outputId": "cd2b83d3-becb-44f1-f4b8-9d085bd6e1ae"
      },
      "outputs": [
        {
          "data": {
            "text/html": [
              "<div>\n",
              "<style scoped>\n",
              "    .dataframe tbody tr th:only-of-type {\n",
              "        vertical-align: middle;\n",
              "    }\n",
              "\n",
              "    .dataframe tbody tr th {\n",
              "        vertical-align: top;\n",
              "    }\n",
              "\n",
              "    .dataframe thead th {\n",
              "        text-align: right;\n",
              "    }\n",
              "</style>\n",
              "<table border=\"1\" class=\"dataframe\">\n",
              "  <thead>\n",
              "    <tr style=\"text-align: right;\">\n",
              "      <th></th>\n",
              "      <th>Quận</th>\n",
              "      <th>Huyện</th>\n",
              "      <th>Loại hình nhà ở</th>\n",
              "      <th>Giấy tờ pháp lý</th>\n",
              "    </tr>\n",
              "  </thead>\n",
              "  <tbody>\n",
              "    <tr>\n",
              "      <th>missing_ratio</th>\n",
              "      <td>0.001226</td>\n",
              "      <td>0.049027</td>\n",
              "      <td>0.023288</td>\n",
              "      <td>35.081139</td>\n",
              "    </tr>\n",
              "    <tr>\n",
              "      <th>num_diff_vals</th>\n",
              "      <td>29</td>\n",
              "      <td>308</td>\n",
              "      <td>4</td>\n",
              "      <td>3</td>\n",
              "    </tr>\n",
              "    <tr>\n",
              "      <th>diff_vals</th>\n",
              "      <td>[Quận Đống Đa, Quận Thanh Xuân, Quận Hoàng Mai...</td>\n",
              "      <td>[Phường Khương Trung, Phường Khương Đình, Phườ...</td>\n",
              "      <td>[Nhà ngõ, hẻm, Nhà mặt phố, mặt tiền, Nhà phố ...</td>\n",
              "      <td>[Đã có sổ, Đang chờ sổ, Giấy tờ khác]</td>\n",
              "    </tr>\n",
              "  </tbody>\n",
              "</table>\n",
              "</div>"
            ],
            "text/plain": [
              "                                                            Quận  \\\n",
              "missing_ratio                                           0.001226   \n",
              "num_diff_vals                                                 29   \n",
              "diff_vals      [Quận Đống Đa, Quận Thanh Xuân, Quận Hoàng Mai...   \n",
              "\n",
              "                                                           Huyện  \\\n",
              "missing_ratio                                           0.049027   \n",
              "num_diff_vals                                                308   \n",
              "diff_vals      [Phường Khương Trung, Phường Khương Đình, Phườ...   \n",
              "\n",
              "                                                 Loại hình nhà ở  \\\n",
              "missing_ratio                                           0.023288   \n",
              "num_diff_vals                                                  4   \n",
              "diff_vals      [Nhà ngõ, hẻm, Nhà mặt phố, mặt tiền, Nhà phố ...   \n",
              "\n",
              "                                     Giấy tờ pháp lý  \n",
              "missing_ratio                              35.081139  \n",
              "num_diff_vals                                      3  \n",
              "diff_vals      [Đã có sổ, Đang chờ sổ, Giấy tờ khác]  "
            ]
          },
          "execution_count": 23,
          "metadata": {},
          "output_type": "execute_result"
        }
      ],
      "source": [
        "def num_diff_vals(col):\n",
        "    return len(col.value_counts())\n",
        "def diff_vals(col):\n",
        "    return col.value_counts().index.unique().to_numpy()\n",
        "\n",
        "cate_col_profiles_df = vn_house_df[categorical_cols].agg([missing_ratio,num_diff_vals,diff_vals])\n",
        "cate_col_profiles_df"
      ]
    },
    {
      "cell_type": "markdown",
      "metadata": {
        "id": "P02Rapx4VDoi"
      },
      "source": [
        "Loại hình nhà ở có 4 giá trị khác nhau là Nhà ngõ, hẻm, Nhà mặt phố, mặt tiền, Nhà phố liền kề."
      ]
    },
    {
      "cell_type": "markdown",
      "metadata": {
        "id": "cIfPUNKYVDoj"
      },
      "source": [
        "Giấy tờ pháp lý có 3 giá trị khác nhau là Đã có sổ, Đang chờ sổ, Giấy tờ khác"
      ]
    },
    {
      "cell_type": "markdown",
      "metadata": {
        "id": "A8P0OcqWVDoj"
      },
      "source": [
        "Xét về missing ratio thì loại hình nhà ở chỉ thiếu khoảng 0.03%, không đáng kể, trong khi giấy tờ pháp lý thì lại thiếu tới 35%. Chứng tỏ khoảng 1/3 hộ gia đình thiếu hoặc không khai báo giấy tờ nhà của hộ."
      ]
    },
    {
      "cell_type": "markdown",
      "metadata": {
        "id": "4QaA4uTFVDoj"
      },
      "source": [
        "Ở đây ta sẽ thực hiện 2 việc:\n",
        "- Bỏ những dòng giá trị nan ở cột loại hình nhà ở\n",
        "- Thay giá trị nan ở cột giấy tờ pháp lý thành **Chưa có giấy tờ**"
      ]
    },
    {
      "cell_type": "code",
      "execution_count": 24,
      "metadata": {
        "colab": {
          "base_uri": "https://localhost:8080/"
        },
        "id": "e52ZZhd3VDoj",
        "outputId": "7b1e3797-9cc5-4453-b9dd-638586672d80"
      },
      "outputs": [
        {
          "name": "stderr",
          "output_type": "stream",
          "text": [
            "C:\\Users\\HP\\AppData\\Local\\Temp\\ipykernel_31708\\474748682.py:1: SettingWithCopyWarning: \n",
            "A value is trying to be set on a copy of a slice from a DataFrame\n",
            "\n",
            "See the caveats in the documentation: https://pandas.pydata.org/pandas-docs/stable/user_guide/indexing.html#returning-a-view-versus-a-copy\n",
            "  vn_house_df.dropna(subset=['Quận'], how='all', inplace=True)\n",
            "C:\\Users\\HP\\AppData\\Local\\Temp\\ipykernel_31708\\474748682.py:2: SettingWithCopyWarning: \n",
            "A value is trying to be set on a copy of a slice from a DataFrame\n",
            "\n",
            "See the caveats in the documentation: https://pandas.pydata.org/pandas-docs/stable/user_guide/indexing.html#returning-a-view-versus-a-copy\n",
            "  vn_house_df.dropna(subset=['Huyện'], how='all', inplace=True)\n",
            "C:\\Users\\HP\\AppData\\Local\\Temp\\ipykernel_31708\\474748682.py:3: SettingWithCopyWarning: \n",
            "A value is trying to be set on a copy of a slice from a DataFrame\n",
            "\n",
            "See the caveats in the documentation: https://pandas.pydata.org/pandas-docs/stable/user_guide/indexing.html#returning-a-view-versus-a-copy\n",
            "  vn_house_df.dropna(subset=['Loại hình nhà ở'], how='all', inplace=True)\n",
            "C:\\Users\\HP\\AppData\\Local\\Temp\\ipykernel_31708\\474748682.py:4: SettingWithCopyWarning: \n",
            "A value is trying to be set on a copy of a slice from a DataFrame.\n",
            "Try using .loc[row_indexer,col_indexer] = value instead\n",
            "\n",
            "See the caveats in the documentation: https://pandas.pydata.org/pandas-docs/stable/user_guide/indexing.html#returning-a-view-versus-a-copy\n",
            "  vn_house_df['Giấy tờ pháp lý'] = vn_house_df['Giấy tờ pháp lý'].fillna('Chưa có giấy tờ')\n"
          ]
        }
      ],
      "source": [
        "vn_house_df.dropna(subset=['Quận'], how='all', inplace=True)\n",
        "vn_house_df.dropna(subset=['Huyện'], how='all', inplace=True)\n",
        "vn_house_df.dropna(subset=['Loại hình nhà ở'], how='all', inplace=True)\n",
        "vn_house_df['Giấy tờ pháp lý'] = vn_house_df['Giấy tờ pháp lý'].fillna('Chưa có giấy tờ')"
      ]
    },
    {
      "cell_type": "code",
      "execution_count": 25,
      "metadata": {
        "colab": {
          "base_uri": "https://localhost:8080/",
          "height": 143
        },
        "id": "ZKTF4Ga5VDok",
        "outputId": "ad48fbd0-fc36-4e7f-ccb3-0de1234803c8"
      },
      "outputs": [
        {
          "data": {
            "text/html": [
              "<div>\n",
              "<style scoped>\n",
              "    .dataframe tbody tr th:only-of-type {\n",
              "        vertical-align: middle;\n",
              "    }\n",
              "\n",
              "    .dataframe tbody tr th {\n",
              "        vertical-align: top;\n",
              "    }\n",
              "\n",
              "    .dataframe thead th {\n",
              "        text-align: right;\n",
              "    }\n",
              "</style>\n",
              "<table border=\"1\" class=\"dataframe\">\n",
              "  <thead>\n",
              "    <tr style=\"text-align: right;\">\n",
              "      <th></th>\n",
              "      <th>Quận</th>\n",
              "      <th>Huyện</th>\n",
              "      <th>Loại hình nhà ở</th>\n",
              "      <th>Giấy tờ pháp lý</th>\n",
              "    </tr>\n",
              "  </thead>\n",
              "  <tbody>\n",
              "    <tr>\n",
              "      <th>missing_ratio</th>\n",
              "      <td>0.0</td>\n",
              "      <td>0.0</td>\n",
              "      <td>0.0</td>\n",
              "      <td>0.0</td>\n",
              "    </tr>\n",
              "    <tr>\n",
              "      <th>num_diff_vals</th>\n",
              "      <td>29</td>\n",
              "      <td>308</td>\n",
              "      <td>4</td>\n",
              "      <td>4</td>\n",
              "    </tr>\n",
              "    <tr>\n",
              "      <th>diff_vals</th>\n",
              "      <td>[Quận Đống Đa, Quận Thanh Xuân, Quận Hoàng Mai...</td>\n",
              "      <td>[Phường Khương Trung, Phường Khương Đình, Phườ...</td>\n",
              "      <td>[Nhà ngõ, hẻm, Nhà mặt phố, mặt tiền, Nhà phố ...</td>\n",
              "      <td>[Đã có sổ, Chưa có giấy tờ, Đang chờ sổ, Giấy ...</td>\n",
              "    </tr>\n",
              "  </tbody>\n",
              "</table>\n",
              "</div>"
            ],
            "text/plain": [
              "                                                            Quận  \\\n",
              "missing_ratio                                                0.0   \n",
              "num_diff_vals                                                 29   \n",
              "diff_vals      [Quận Đống Đa, Quận Thanh Xuân, Quận Hoàng Mai...   \n",
              "\n",
              "                                                           Huyện  \\\n",
              "missing_ratio                                                0.0   \n",
              "num_diff_vals                                                308   \n",
              "diff_vals      [Phường Khương Trung, Phường Khương Đình, Phườ...   \n",
              "\n",
              "                                                 Loại hình nhà ở  \\\n",
              "missing_ratio                                                0.0   \n",
              "num_diff_vals                                                  4   \n",
              "diff_vals      [Nhà ngõ, hẻm, Nhà mặt phố, mặt tiền, Nhà phố ...   \n",
              "\n",
              "                                                 Giấy tờ pháp lý  \n",
              "missing_ratio                                                0.0  \n",
              "num_diff_vals                                                  4  \n",
              "diff_vals      [Đã có sổ, Chưa có giấy tờ, Đang chờ sổ, Giấy ...  "
            ]
          },
          "execution_count": 25,
          "metadata": {},
          "output_type": "execute_result"
        }
      ],
      "source": [
        "cate_col_profiles_df = vn_house_df[categorical_cols].agg([missing_ratio,num_diff_vals,diff_vals])\n",
        "cate_col_profiles_df"
      ]
    },
    {
      "cell_type": "markdown",
      "metadata": {
        "id": "e9UWjWnTVDok"
      },
      "source": [
        "## Phân tích hồi quy, dự báo"
      ]
    },
    {
      "cell_type": "markdown",
      "metadata": {
        "id": "_sKxri1LxKVd"
      },
      "source": [
        "Thay đổi tên các cột thành tiếng Anh"
      ]
    },
    {
      "cell_type": "code",
      "execution_count": 26,
      "metadata": {
        "id": "AyTF_fqB4Fqv"
      },
      "outputs": [],
      "source": [
        "vn_house_df2 = pd.DataFrame()"
      ]
    },
    {
      "cell_type": "markdown",
      "metadata": {
        "id": "9h5gU1Ry9hgE"
      },
      "source": [
        "Chọn ra những trường dữ liệu cần thiết cho việc hồi qui"
      ]
    },
    {
      "cell_type": "code",
      "execution_count": 27,
      "metadata": {
        "colab": {
          "base_uri": "https://localhost:8080/",
          "height": 206
        },
        "id": "r5XVh-ew4BYs",
        "outputId": "abc43935-0303-4b2c-9817-47bfe68364c7"
      },
      "outputs": [
        {
          "data": {
            "text/html": [
              "<div>\n",
              "<style scoped>\n",
              "    .dataframe tbody tr th:only-of-type {\n",
              "        vertical-align: middle;\n",
              "    }\n",
              "\n",
              "    .dataframe tbody tr th {\n",
              "        vertical-align: top;\n",
              "    }\n",
              "\n",
              "    .dataframe thead th {\n",
              "        text-align: right;\n",
              "    }\n",
              "</style>\n",
              "<table border=\"1\" class=\"dataframe\">\n",
              "  <thead>\n",
              "    <tr style=\"text-align: right;\">\n",
              "      <th></th>\n",
              "      <th>Price</th>\n",
              "      <th>Type</th>\n",
              "      <th>Bedrooms</th>\n",
              "      <th>Area</th>\n",
              "      <th>Floors</th>\n",
              "    </tr>\n",
              "  </thead>\n",
              "  <tbody>\n",
              "    <tr>\n",
              "      <th>0</th>\n",
              "      <td>8696.0</td>\n",
              "      <td>Nhà ngõ, hẻm</td>\n",
              "      <td>5.0</td>\n",
              "      <td>46.0</td>\n",
              "      <td>4.0</td>\n",
              "    </tr>\n",
              "    <tr>\n",
              "      <th>1</th>\n",
              "      <td>11622.0</td>\n",
              "      <td>Nhà mặt phố, mặt tiền</td>\n",
              "      <td>3.0</td>\n",
              "      <td>37.0</td>\n",
              "      <td>0.0</td>\n",
              "    </tr>\n",
              "    <tr>\n",
              "      <th>2</th>\n",
              "      <td>65.0</td>\n",
              "      <td>Nhà ngõ, hẻm</td>\n",
              "      <td>4.0</td>\n",
              "      <td>40.0</td>\n",
              "      <td>4.0</td>\n",
              "    </tr>\n",
              "    <tr>\n",
              "      <th>3</th>\n",
              "      <td>100.0</td>\n",
              "      <td>Nhà ngõ, hẻm</td>\n",
              "      <td>6.0</td>\n",
              "      <td>51.0</td>\n",
              "      <td>0.0</td>\n",
              "    </tr>\n",
              "    <tr>\n",
              "      <th>4</th>\n",
              "      <td>8611.0</td>\n",
              "      <td>Nhà ngõ, hẻm</td>\n",
              "      <td>4.0</td>\n",
              "      <td>36.0</td>\n",
              "      <td>0.0</td>\n",
              "    </tr>\n",
              "  </tbody>\n",
              "</table>\n",
              "</div>"
            ],
            "text/plain": [
              "     Price                   Type  Bedrooms  Area  Floors\n",
              "0   8696.0           Nhà ngõ, hẻm       5.0  46.0     4.0\n",
              "1  11622.0  Nhà mặt phố, mặt tiền       3.0  37.0     0.0\n",
              "2     65.0           Nhà ngõ, hẻm       4.0  40.0     4.0\n",
              "3    100.0           Nhà ngõ, hẻm       6.0  51.0     0.0\n",
              "4   8611.0           Nhà ngõ, hẻm       4.0  36.0     0.0"
            ]
          },
          "execution_count": 27,
          "metadata": {},
          "output_type": "execute_result"
        }
      ],
      "source": [
        "vn_house_df2['Price'] = vn_house_df['Giá/m2']\n",
        "vn_house_df2['Type'] = vn_house_df['Loại hình nhà ở'] \n",
        "vn_house_df2['Bedrooms'] = vn_house_df['Số phòng ngủ']\n",
        "vn_house_df2['Area'] = vn_house_df['Diện tích']\n",
        "vn_house_df2['Floors'] = vn_house_df['Số tầng']\n",
        "vn_house_df2.head()"
      ]
    },
    {
      "cell_type": "markdown",
      "metadata": {
        "id": "6zf7hzKe6DjL"
      },
      "source": [
        "### Mô hình hồi qui với Price ~ Bedrooms + Area"
      ]
    },
    {
      "cell_type": "code",
      "execution_count": 28,
      "metadata": {
        "colab": {
          "base_uri": "https://localhost:8080/"
        },
        "id": "BeYGZOBI3ke3",
        "outputId": "e93a9e15-be2a-4e00-8ec3-6e5f8452ec01"
      },
      "outputs": [
        {
          "name": "stdout",
          "output_type": "stream",
          "text": [
            "                            OLS Regression Results                            \n",
            "==============================================================================\n",
            "Dep. Variable:                  Price   R-squared:                       0.030\n",
            "Model:                            OLS   Adj. R-squared:                  0.029\n",
            "Method:                 Least Squares   F-statistic:                     826.3\n",
            "Date:                Sat, 27 Aug 2022   Prob (F-statistic):               0.00\n",
            "Time:                        19:18:40   Log-Likelihood:            -8.3430e+05\n",
            "No. Observations:               81532   AIC:                         1.669e+06\n",
            "Df Residuals:                   81528   BIC:                         1.669e+06\n",
            "Df Model:                           3                                         \n",
            "Covariance Type:            nonrobust                                         \n",
            "==============================================================================\n",
            "                 coef    std err          t      P>|t|      [0.025      0.975]\n",
            "------------------------------------------------------------------------------\n",
            "Intercept   4268.0893     67.194     63.519      0.000    4136.389    4399.789\n",
            "Bedrooms     739.2500     16.044     46.078      0.000     707.805     770.695\n",
            "Area           1.5019      0.381      3.945      0.000       0.756       2.248\n",
            "Floors        93.8666      9.708      9.669      0.000      74.840     112.893\n",
            "==============================================================================\n",
            "Omnibus:                    55456.736   Durbin-Watson:                   1.990\n",
            "Prob(Omnibus):                  0.000   Jarque-Bera (JB):          1774324.277\n",
            "Skew:                           2.843   Prob(JB):                         0.00\n",
            "Kurtosis:                      25.135   Cond. No.                         229.\n",
            "==============================================================================\n",
            "\n",
            "Notes:\n",
            "[1] Standard Errors assume that the covariance matrix of the errors is correctly specified.\n"
          ]
        }
      ],
      "source": [
        "res = smf.ols(formula='Price ~ Bedrooms + Area + Floors', data=vn_house_df2).fit()\n",
        "print(res.summary())"
      ]
    },
    {
      "cell_type": "markdown",
      "metadata": {
        "id": "_92FjoAdAr1Z"
      },
      "source": [
        "### Nhận xét các giá trị quan trọng của Summary"
      ]
    },
    {
      "cell_type": "markdown",
      "metadata": {
        "id": "j5fa9MDM-9Xi"
      },
      "source": [
        "* `R-squared` và `Adj. R-squared` có giá trị 0.028 cho thấy các biến độc lập chưa giải thích được nhiều mô hình tức vẫn còn nhiều điểm không nằm trong đường hồi quy chính là các outlier dẫn đến tình trạng mô hình chưa được tốt.\n",
        "* `Coefficient`: các giá trị hệ số tương quan đều **dương**\n",
        "    * `Intercept`: 4379.8017 -> Hệ số tự do **b** (trong công thức **y = ax + b**) ảnh hưởng lớn đến Price\n",
        "    * `Bedrooms`: 758.9257 -> Số lượng phòng ngủ ảnh hưởng khá lớn đến Price\n",
        "    * `Area`: 1.4156 -> Diện tích có ảnh hưởng ít đến Price\n",
        "* `Sai số chuẩn(std error)` ở số lượng phòng ngủ cũng như số tầng cao trong khi diện tích(area) thấp chứng tỏ mức độ phụ thuộc nhất định của diện tích.\n",
        "* `P>|t|` càng lớn chứng tỏ các trường dữ liệu càng ít liên quan đến mô hình dữ liệu. Tuy nhiên ở đây, cả ba trường dữ liệu đều bằng 0.\n",
        "\n",
        "Như vậy ta có thể thấy tỉ lệ chính xác của các điểm dữ liệu nằm trên đường hồi quy còn chưa cao vì bị ảnh hưởng ít nhiều từ các outlier. Ta có thể biến đổi cũng như áp dụng các phương pháp remove outlier để cải thiện mô hình."
      ]
    },
    {
      "cell_type": "markdown",
      "metadata": {},
      "source": [
        "### Trực quan mô hình hồi qui"
      ]
    },
    {
      "cell_type": "code",
      "execution_count": 29,
      "metadata": {},
      "outputs": [
        {
          "name": "stdout",
          "output_type": "stream",
          "text": [
            "eval_env: 1\n",
            "eval_env: 1\n",
            "eval_env: 1\n",
            "eval_env: 1\n"
          ]
        },
        {
          "data": {
            "image/png": "[encoded data removed]",
            "text/plain": [
              "<Figure size 1440x720 with 4 Axes>"
            ]
          },
          "metadata": {
            "needs_background": "light"
          },
          "output_type": "display_data"
        }
      ],
      "source": [
        "fig = plt.figure(figsize=(20, 10))\n",
        "sm.graphics.plot_partregress_grid(res, fig=fig)\n",
        "plt.show()"
      ]
    },
    {
      "cell_type": "markdown",
      "metadata": {},
      "source": [
        "## Dự đoán giá nhà"
      ]
    },
    {
      "cell_type": "markdown",
      "metadata": {},
      "source": [
        "Để dự đoán giá nhà chính xác, mô hình hồi quy là chưa đủ, ta có thể áp dụng một thuật toán khác là ANN(Mạng thần kinh nhân tạo) từ các thư viện của Tensorflow."
      ]
    },
    {
      "cell_type": "code",
      "execution_count": 30,
      "metadata": {},
      "outputs": [
        {
          "name": "stderr",
          "output_type": "stream",
          "text": [
            "C:\\Users\\HP\\AppData\\Local\\Temp\\ipykernel_31708\\3091067243.py:23: FutureWarning: The default value of regex will change from True to False in a future version. In addition, single character regular expressions will *not* be treated as literal strings when regex=True.\n",
            "  renamed_vn_house_df.loc[renamed_vn_house_df['price_in_million_per_square_meter'].str.contains(' tỷ/m²'), 'price_in_million_per_square_meter'] = renamed_vn_house_df.loc[renamed_vn_house_df['price_in_million_per_square_meter'].str.contains(' tỷ/m²'), 'price_in_million_per_square_meter'].str.replace(' tỷ/m²','').str.replace('.','').str.replace(',','.').astype(float) * 1000\n",
            "C:\\Users\\HP\\AppData\\Local\\Temp\\ipykernel_31708\\3091067243.py:25: FutureWarning: The default value of regex will change from True to False in a future version. In addition, single character regular expressions will *not* be treated as literal strings when regex=True.\n",
            "  renamed_vn_house_df.loc[renamed_vn_house_df['price_in_million_per_square_meter'].str.contains(' đ/m²', na=False), 'price_in_million_per_square_meter'] = renamed_vn_house_df.loc[renamed_vn_house_df['price_in_million_per_square_meter'].str.contains(' đ/m²', na=False), 'price_in_million_per_square_meter'].str.replace(' đ/m²','').str.replace('.','').astype(float) * 0.000001\n"
          ]
        }
      ],
      "source": [
        "vn_house_df = pd.read_csv('data/VN_housing_dataset.csv')\n",
        "renamed_vn_house_df = vn_house_df.rename(columns = {\"Ngày\":\"date\", \"Địa chỉ\":\"address\", \"Quận\":\"district\", \n",
        "                                  \"Huyện\":\"ward\", \"Loại hình nhà ở\":\"type_of_housing\",\n",
        "                                 \"Giấy tờ pháp lý\":\"legal_paper\", \"Số tầng\":\"num_floors\",\n",
        "                                 \"Số phòng ngủ\":\"num_bed_rooms\", \"Diện tích\":\"squared_meter_area\",\n",
        "                                 \"Dài\":\"length_meter\", \"Rộng\":\"width_meter\", \"Giá/m2\":\"price_in_million_per_square_meter\"})\n",
        "renamed_vn_house_df = renamed_vn_house_df.drop(\"Unnamed: 0\", axis = 1)\n",
        "renamed_vn_house_df = renamed_vn_house_df.dropna()\n",
        "renamed_vn_house_df = renamed_vn_house_df.reset_index()\n",
        "\n",
        "renamed_vn_house_df = renamed_vn_house_df[renamed_vn_house_df['num_floors'] != 'Nhiều hơn 10']\n",
        "renamed_vn_house_df = renamed_vn_house_df[renamed_vn_house_df['num_bed_rooms'] != 'nhiều hơn 10 phòng']\n",
        "\n",
        "# Clean columns and convert numerical columns to float type\n",
        "renamed_vn_house_df['district'] = renamed_vn_house_df['district'].str.replace('Quận ','').str.strip()\n",
        "renamed_vn_house_df['ward'] = renamed_vn_house_df['ward'].str.replace('Phường ','').str.strip()\n",
        "renamed_vn_house_df['num_floors'] = renamed_vn_house_df['num_floors'].str.strip().astype(float)\n",
        "renamed_vn_house_df['num_bed_rooms'] = renamed_vn_house_df['num_bed_rooms'].str.replace(' phòng','').str.strip().astype(float)\n",
        "renamed_vn_house_df['squared_meter_area'] = renamed_vn_house_df['squared_meter_area'].str.replace(' m²','').str.strip().astype(float)\n",
        "renamed_vn_house_df['length_meter'] = renamed_vn_house_df['length_meter'].str.replace(' m','').str.strip().astype(float)\n",
        "renamed_vn_house_df['width_meter'] = renamed_vn_house_df['width_meter'].str.replace(' m','').str.strip().astype(float)\n",
        "\n",
        "renamed_vn_house_df.loc[renamed_vn_house_df['price_in_million_per_square_meter'].str.contains(' tỷ/m²'), 'price_in_million_per_square_meter'] = renamed_vn_house_df.loc[renamed_vn_house_df['price_in_million_per_square_meter'].str.contains(' tỷ/m²'), 'price_in_million_per_square_meter'].str.replace(' tỷ/m²','').str.replace('.','').str.replace(',','.').astype(float) * 1000\n",
        "renamed_vn_house_df.loc[renamed_vn_house_df['price_in_million_per_square_meter'].str.contains(' triệu/m²', na=False), 'price_in_million_per_square_meter'] = renamed_vn_house_df.loc[renamed_vn_house_df['price_in_million_per_square_meter'].str.contains(' triệu/m²', na=False), 'price_in_million_per_square_meter'].str.replace(' triệu/m²','').str.replace(',','.').astype(float)\n",
        "renamed_vn_house_df.loc[renamed_vn_house_df['price_in_million_per_square_meter'].str.contains(' đ/m²', na=False), 'price_in_million_per_square_meter'] = renamed_vn_house_df.loc[renamed_vn_house_df['price_in_million_per_square_meter'].str.contains(' đ/m²', na=False), 'price_in_million_per_square_meter'].str.replace(' đ/m²','').str.replace('.','').astype(float) * 0.000001\n",
        "\n",
        "# Create dummies for categorical columns\n",
        "dummy_type_of_housing = pd.get_dummies(renamed_vn_house_df.type_of_housing, prefix=\"housing_type\")\n",
        "dummy_legal_paper = pd.get_dummies(renamed_vn_house_df.legal_paper, prefix=\"legal_paper\")\n",
        "dummy_district = pd.get_dummies(renamed_vn_house_df.district, prefix=\"district\")\n",
        "dummy_ward = pd.get_dummies(renamed_vn_house_df.ward, prefix=\"ward\")\n",
        "\n",
        "clean_vn_house_df = pd.concat([renamed_vn_house_df, dummy_type_of_housing, dummy_legal_paper, dummy_district, dummy_ward], axis=1)\n",
        "clean_vn_house_df = clean_vn_house_df.drop(['index', 'date', 'address', 'district', 'ward', 'type_of_housing', 'legal_paper'], axis = 1)"
      ]
    },
    {
      "cell_type": "markdown",
      "metadata": {},
      "source": [
        "Nhóm sử dụng phương pháp IQR để xóa bỏ các outlier không cần thiết."
      ]
    },
    {
      "cell_type": "code",
      "execution_count": 31,
      "metadata": {},
      "outputs": [],
      "source": [
        "def remove_outlier_IQR(df, series):\n",
        "    Q1=df[series].quantile(0.25)\n",
        "    Q3=df[series].quantile(0.75)\n",
        "    IQR=Q3-Q1\n",
        "    df_final=df[~((df[series]<(Q1-1.5*IQR)) | (df[series]>(Q3+1.5*IQR)))]\n",
        "    return df_final\n",
        "\n",
        "removed_outliers = clean_vn_house_df\n",
        "columns_to_remove_outliers = ['num_floors', 'num_bed_rooms', 'squared_meter_area', 'length_meter',\n",
        "                              'width_meter', 'price_in_million_per_square_meter']\n",
        "for column in columns_to_remove_outliers:\n",
        "    removed_outliers = remove_outlier_IQR(removed_outliers, column)"
      ]
    },
    {
      "cell_type": "markdown",
      "metadata": {},
      "source": [
        "Từ hơn 80k dòng, ta đã rút gọn xuống chỉ còn 7328 dòng."
      ]
    },
    {
      "cell_type": "code",
      "execution_count": 32,
      "metadata": {},
      "outputs": [
        {
          "data": {
            "text/html": [
              "<div>\n",
              "<style scoped>\n",
              "    .dataframe tbody tr th:only-of-type {\n",
              "        vertical-align: middle;\n",
              "    }\n",
              "\n",
              "    .dataframe tbody tr th {\n",
              "        vertical-align: top;\n",
              "    }\n",
              "\n",
              "    .dataframe thead th {\n",
              "        text-align: right;\n",
              "    }\n",
              "</style>\n",
              "<table border=\"1\" class=\"dataframe\">\n",
              "  <thead>\n",
              "    <tr style=\"text-align: right;\">\n",
              "      <th></th>\n",
              "      <th>num_floors</th>\n",
              "      <th>num_bed_rooms</th>\n",
              "      <th>squared_meter_area</th>\n",
              "      <th>length_meter</th>\n",
              "      <th>width_meter</th>\n",
              "      <th>price_in_million_per_square_meter</th>\n",
              "      <th>housing_type_Nhà biệt thự</th>\n",
              "      <th>housing_type_Nhà mặt phố, mặt tiền</th>\n",
              "      <th>housing_type_Nhà ngõ, hẻm</th>\n",
              "      <th>housing_type_Nhà phố liền kề</th>\n",
              "      <th>...</th>\n",
              "      <th>ward_Đại Mỗ</th>\n",
              "      <th>ward_Định Công</th>\n",
              "      <th>ward_Đống Mác</th>\n",
              "      <th>ward_Đồng Mai</th>\n",
              "      <th>ward_Đồng Nhân</th>\n",
              "      <th>ward_Đồng Tâm</th>\n",
              "      <th>ward_Đồng Xuân</th>\n",
              "      <th>ward_Đội Cấn</th>\n",
              "      <th>ward_Đức Giang</th>\n",
              "      <th>ward_Đức Thắng</th>\n",
              "    </tr>\n",
              "  </thead>\n",
              "  <tbody>\n",
              "    <tr>\n",
              "      <th>0</th>\n",
              "      <td>4.0</td>\n",
              "      <td>4.0</td>\n",
              "      <td>40.0</td>\n",
              "      <td>10.0</td>\n",
              "      <td>4.0</td>\n",
              "      <td>65.0</td>\n",
              "      <td>0</td>\n",
              "      <td>0</td>\n",
              "      <td>1</td>\n",
              "      <td>0</td>\n",
              "      <td>...</td>\n",
              "      <td>0</td>\n",
              "      <td>0</td>\n",
              "      <td>0</td>\n",
              "      <td>0</td>\n",
              "      <td>0</td>\n",
              "      <td>0</td>\n",
              "      <td>0</td>\n",
              "      <td>0</td>\n",
              "      <td>0</td>\n",
              "      <td>0</td>\n",
              "    </tr>\n",
              "    <tr>\n",
              "      <th>1</th>\n",
              "      <td>5.0</td>\n",
              "      <td>4.0</td>\n",
              "      <td>52.0</td>\n",
              "      <td>12.0</td>\n",
              "      <td>4.2</td>\n",
              "      <td>93.27</td>\n",
              "      <td>0</td>\n",
              "      <td>0</td>\n",
              "      <td>1</td>\n",
              "      <td>0</td>\n",
              "      <td>...</td>\n",
              "      <td>0</td>\n",
              "      <td>0</td>\n",
              "      <td>0</td>\n",
              "      <td>0</td>\n",
              "      <td>0</td>\n",
              "      <td>0</td>\n",
              "      <td>0</td>\n",
              "      <td>0</td>\n",
              "      <td>0</td>\n",
              "      <td>0</td>\n",
              "    </tr>\n",
              "    <tr>\n",
              "      <th>3</th>\n",
              "      <td>4.0</td>\n",
              "      <td>3.0</td>\n",
              "      <td>32.0</td>\n",
              "      <td>6.6</td>\n",
              "      <td>4.5</td>\n",
              "      <td>60.94</td>\n",
              "      <td>0</td>\n",
              "      <td>0</td>\n",
              "      <td>1</td>\n",
              "      <td>0</td>\n",
              "      <td>...</td>\n",
              "      <td>0</td>\n",
              "      <td>0</td>\n",
              "      <td>0</td>\n",
              "      <td>0</td>\n",
              "      <td>0</td>\n",
              "      <td>0</td>\n",
              "      <td>0</td>\n",
              "      <td>0</td>\n",
              "      <td>0</td>\n",
              "      <td>0</td>\n",
              "    </tr>\n",
              "    <tr>\n",
              "      <th>4</th>\n",
              "      <td>3.0</td>\n",
              "      <td>2.0</td>\n",
              "      <td>42.0</td>\n",
              "      <td>11.0</td>\n",
              "      <td>4.0</td>\n",
              "      <td>29.76</td>\n",
              "      <td>0</td>\n",
              "      <td>0</td>\n",
              "      <td>1</td>\n",
              "      <td>0</td>\n",
              "      <td>...</td>\n",
              "      <td>0</td>\n",
              "      <td>0</td>\n",
              "      <td>0</td>\n",
              "      <td>0</td>\n",
              "      <td>0</td>\n",
              "      <td>0</td>\n",
              "      <td>0</td>\n",
              "      <td>0</td>\n",
              "      <td>0</td>\n",
              "      <td>0</td>\n",
              "    </tr>\n",
              "    <tr>\n",
              "      <th>5</th>\n",
              "      <td>4.0</td>\n",
              "      <td>4.0</td>\n",
              "      <td>43.0</td>\n",
              "      <td>11.0</td>\n",
              "      <td>4.0</td>\n",
              "      <td>50.0</td>\n",
              "      <td>0</td>\n",
              "      <td>0</td>\n",
              "      <td>1</td>\n",
              "      <td>0</td>\n",
              "      <td>...</td>\n",
              "      <td>0</td>\n",
              "      <td>0</td>\n",
              "      <td>0</td>\n",
              "      <td>0</td>\n",
              "      <td>0</td>\n",
              "      <td>0</td>\n",
              "      <td>0</td>\n",
              "      <td>0</td>\n",
              "      <td>0</td>\n",
              "      <td>0</td>\n",
              "    </tr>\n",
              "    <tr>\n",
              "      <th>...</th>\n",
              "      <td>...</td>\n",
              "      <td>...</td>\n",
              "      <td>...</td>\n",
              "      <td>...</td>\n",
              "      <td>...</td>\n",
              "      <td>...</td>\n",
              "      <td>...</td>\n",
              "      <td>...</td>\n",
              "      <td>...</td>\n",
              "      <td>...</td>\n",
              "      <td>...</td>\n",
              "      <td>...</td>\n",
              "      <td>...</td>\n",
              "      <td>...</td>\n",
              "      <td>...</td>\n",
              "      <td>...</td>\n",
              "      <td>...</td>\n",
              "      <td>...</td>\n",
              "      <td>...</td>\n",
              "      <td>...</td>\n",
              "      <td>...</td>\n",
              "    </tr>\n",
              "    <tr>\n",
              "      <th>11460</th>\n",
              "      <td>4.0</td>\n",
              "      <td>4.0</td>\n",
              "      <td>50.0</td>\n",
              "      <td>13.0</td>\n",
              "      <td>3.0</td>\n",
              "      <td>150.0</td>\n",
              "      <td>0</td>\n",
              "      <td>1</td>\n",
              "      <td>0</td>\n",
              "      <td>0</td>\n",
              "      <td>...</td>\n",
              "      <td>0</td>\n",
              "      <td>0</td>\n",
              "      <td>0</td>\n",
              "      <td>0</td>\n",
              "      <td>0</td>\n",
              "      <td>0</td>\n",
              "      <td>0</td>\n",
              "      <td>0</td>\n",
              "      <td>0</td>\n",
              "      <td>0</td>\n",
              "    </tr>\n",
              "    <tr>\n",
              "      <th>11461</th>\n",
              "      <td>3.0</td>\n",
              "      <td>4.0</td>\n",
              "      <td>50.0</td>\n",
              "      <td>12.5</td>\n",
              "      <td>4.0</td>\n",
              "      <td>118.0</td>\n",
              "      <td>0</td>\n",
              "      <td>0</td>\n",
              "      <td>1</td>\n",
              "      <td>0</td>\n",
              "      <td>...</td>\n",
              "      <td>0</td>\n",
              "      <td>0</td>\n",
              "      <td>0</td>\n",
              "      <td>0</td>\n",
              "      <td>0</td>\n",
              "      <td>0</td>\n",
              "      <td>0</td>\n",
              "      <td>0</td>\n",
              "      <td>0</td>\n",
              "      <td>0</td>\n",
              "    </tr>\n",
              "    <tr>\n",
              "      <th>11463</th>\n",
              "      <td>4.0</td>\n",
              "      <td>3.0</td>\n",
              "      <td>42.0</td>\n",
              "      <td>12.0</td>\n",
              "      <td>3.0</td>\n",
              "      <td>83.33</td>\n",
              "      <td>0</td>\n",
              "      <td>0</td>\n",
              "      <td>1</td>\n",
              "      <td>0</td>\n",
              "      <td>...</td>\n",
              "      <td>0</td>\n",
              "      <td>0</td>\n",
              "      <td>0</td>\n",
              "      <td>0</td>\n",
              "      <td>0</td>\n",
              "      <td>0</td>\n",
              "      <td>0</td>\n",
              "      <td>1</td>\n",
              "      <td>0</td>\n",
              "      <td>0</td>\n",
              "    </tr>\n",
              "    <tr>\n",
              "      <th>11464</th>\n",
              "      <td>4.0</td>\n",
              "      <td>4.0</td>\n",
              "      <td>73.0</td>\n",
              "      <td>14.0</td>\n",
              "      <td>5.0</td>\n",
              "      <td>72.6</td>\n",
              "      <td>0</td>\n",
              "      <td>0</td>\n",
              "      <td>0</td>\n",
              "      <td>1</td>\n",
              "      <td>...</td>\n",
              "      <td>0</td>\n",
              "      <td>0</td>\n",
              "      <td>0</td>\n",
              "      <td>0</td>\n",
              "      <td>0</td>\n",
              "      <td>0</td>\n",
              "      <td>0</td>\n",
              "      <td>0</td>\n",
              "      <td>0</td>\n",
              "      <td>0</td>\n",
              "    </tr>\n",
              "    <tr>\n",
              "      <th>11466</th>\n",
              "      <td>5.0</td>\n",
              "      <td>5.0</td>\n",
              "      <td>45.0</td>\n",
              "      <td>11.0</td>\n",
              "      <td>4.0</td>\n",
              "      <td>104.44</td>\n",
              "      <td>0</td>\n",
              "      <td>0</td>\n",
              "      <td>1</td>\n",
              "      <td>0</td>\n",
              "      <td>...</td>\n",
              "      <td>0</td>\n",
              "      <td>0</td>\n",
              "      <td>0</td>\n",
              "      <td>0</td>\n",
              "      <td>0</td>\n",
              "      <td>0</td>\n",
              "      <td>0</td>\n",
              "      <td>0</td>\n",
              "      <td>0</td>\n",
              "      <td>0</td>\n",
              "    </tr>\n",
              "  </tbody>\n",
              "</table>\n",
              "<p>7328 rows × 281 columns</p>\n",
              "</div>"
            ],
            "text/plain": [
              "       num_floors  num_bed_rooms  squared_meter_area  length_meter  \\\n",
              "0             4.0            4.0                40.0          10.0   \n",
              "1             5.0            4.0                52.0          12.0   \n",
              "3             4.0            3.0                32.0           6.6   \n",
              "4             3.0            2.0                42.0          11.0   \n",
              "5             4.0            4.0                43.0          11.0   \n",
              "...           ...            ...                 ...           ...   \n",
              "11460         4.0            4.0                50.0          13.0   \n",
              "11461         3.0            4.0                50.0          12.5   \n",
              "11463         4.0            3.0                42.0          12.0   \n",
              "11464         4.0            4.0                73.0          14.0   \n",
              "11466         5.0            5.0                45.0          11.0   \n",
              "\n",
              "       width_meter price_in_million_per_square_meter  \\\n",
              "0              4.0                              65.0   \n",
              "1              4.2                             93.27   \n",
              "3              4.5                             60.94   \n",
              "4              4.0                             29.76   \n",
              "5              4.0                              50.0   \n",
              "...            ...                               ...   \n",
              "11460          3.0                             150.0   \n",
              "11461          4.0                             118.0   \n",
              "11463          3.0                             83.33   \n",
              "11464          5.0                              72.6   \n",
              "11466          4.0                            104.44   \n",
              "\n",
              "       housing_type_Nhà biệt thự  housing_type_Nhà mặt phố, mặt tiền  \\\n",
              "0                              0                                   0   \n",
              "1                              0                                   0   \n",
              "3                              0                                   0   \n",
              "4                              0                                   0   \n",
              "5                              0                                   0   \n",
              "...                          ...                                 ...   \n",
              "11460                          0                                   1   \n",
              "11461                          0                                   0   \n",
              "11463                          0                                   0   \n",
              "11464                          0                                   0   \n",
              "11466                          0                                   0   \n",
              "\n",
              "       housing_type_Nhà ngõ, hẻm  housing_type_Nhà phố liền kề  ...  \\\n",
              "0                              1                             0  ...   \n",
              "1                              1                             0  ...   \n",
              "3                              1                             0  ...   \n",
              "4                              1                             0  ...   \n",
              "5                              1                             0  ...   \n",
              "...                          ...                           ...  ...   \n",
              "11460                          0                             0  ...   \n",
              "11461                          1                             0  ...   \n",
              "11463                          1                             0  ...   \n",
              "11464                          0                             1  ...   \n",
              "11466                          1                             0  ...   \n",
              "\n",
              "       ward_Đại Mỗ  ward_Định Công  ward_Đống Mác  ward_Đồng Mai  \\\n",
              "0                0               0              0              0   \n",
              "1                0               0              0              0   \n",
              "3                0               0              0              0   \n",
              "4                0               0              0              0   \n",
              "5                0               0              0              0   \n",
              "...            ...             ...            ...            ...   \n",
              "11460            0               0              0              0   \n",
              "11461            0               0              0              0   \n",
              "11463            0               0              0              0   \n",
              "11464            0               0              0              0   \n",
              "11466            0               0              0              0   \n",
              "\n",
              "       ward_Đồng Nhân  ward_Đồng Tâm  ward_Đồng Xuân  ward_Đội Cấn  \\\n",
              "0                   0              0               0             0   \n",
              "1                   0              0               0             0   \n",
              "3                   0              0               0             0   \n",
              "4                   0              0               0             0   \n",
              "5                   0              0               0             0   \n",
              "...               ...            ...             ...           ...   \n",
              "11460               0              0               0             0   \n",
              "11461               0              0               0             0   \n",
              "11463               0              0               0             1   \n",
              "11464               0              0               0             0   \n",
              "11466               0              0               0             0   \n",
              "\n",
              "       ward_Đức Giang  ward_Đức Thắng  \n",
              "0                   0               0  \n",
              "1                   0               0  \n",
              "3                   0               0  \n",
              "4                   0               0  \n",
              "5                   0               0  \n",
              "...               ...             ...  \n",
              "11460               0               0  \n",
              "11461               0               0  \n",
              "11463               0               0  \n",
              "11464               0               0  \n",
              "11466               0               0  \n",
              "\n",
              "[7328 rows x 281 columns]"
            ]
          },
          "execution_count": 32,
          "metadata": {},
          "output_type": "execute_result"
        }
      ],
      "source": [
        "removed_outliers"
      ]
    },
    {
      "cell_type": "code",
      "execution_count": 33,
      "metadata": {},
      "outputs": [
        {
          "name": "stderr",
          "output_type": "stream",
          "text": [
            "C:\\Users\\HP\\AppData\\Local\\Temp\\ipykernel_31708\\513695635.py:20: SettingWithCopyWarning: \n",
            "A value is trying to be set on a copy of a slice from a DataFrame.\n",
            "Try using .loc[row_indexer,col_indexer] = value instead\n",
            "\n",
            "See the caveats in the documentation: https://pandas.pydata.org/pandas-docs/stable/user_guide/indexing.html#returning-a-view-versus-a-copy\n",
            "  X_scaled[to_be_scaled]=PredictorScalerFit.transform(X_scaled[to_be_scaled])\n"
          ]
        }
      ],
      "source": [
        "housing = removed_outliers\n",
        "\n",
        "# Separate predictors and response (price) variables\n",
        "X = housing.loc[:, housing.columns != 'price_in_million_per_square_meter']\n",
        "y = housing[['price_in_million_per_square_meter']]\n",
        "to_be_scaled = ['num_floors', 'num_bed_rooms', 'squared_meter_area', 'length_meter', 'width_meter']\n",
        "\n",
        "# Initiate scaler\n",
        "PredictorScaler=StandardScaler()\n",
        "TargetVarScaler=StandardScaler()\n",
        "\n",
        "X_scaled = X\n",
        "y_scaled = y\n",
        "\n",
        "# Storing the fit object for reference and reverse the scaling later\n",
        "PredictorScalerFit=PredictorScaler.fit(X_scaled[to_be_scaled])\n",
        "TargetVarScalerFit=TargetVarScaler.fit(y_scaled)\n",
        " \n",
        "# Generating the standardized values of X and y\n",
        "X_scaled[to_be_scaled]=PredictorScalerFit.transform(X_scaled[to_be_scaled])\n",
        "y_scaled=TargetVarScalerFit.transform(y)\n",
        "\n",
        "X_array = np.array(X_scaled.values).astype(\"float32\")\n",
        "y_array = np.array(y_scaled).astype(\"float32\")\n",
        "X_train, X_test, y_train, y_test = train_test_split(X_array, y_array, test_size=0.2, random_state=2032)"
      ]
    },
    {
      "cell_type": "code",
      "execution_count": 34,
      "metadata": {},
      "outputs": [],
      "source": [
        "# Fitting the ANN to the Training set\n",
        "ANN = Sequential()                \n",
        "ANN.add(Dense(units=10, input_dim=X_train.shape[1], \n",
        "                kernel_initializer='normal', activation='relu'))\n",
        "ANN.add(Dense(1, kernel_initializer='normal'))\n",
        "ANN.compile(loss='mean_squared_error', optimizer={'batch_size': 30, 'epochs': 20, 'optimizer_trial': 'rmsprop'}['optimizer_trial'])\n",
        "ANN.fit(X_train, y_train,batch_size = int({'batch_size': 30, 'epochs': 20, 'optimizer_trial': 'rmsprop'}['batch_size']),\n",
        "        epochs = int({'batch_size': 30, 'epochs': 20, 'optimizer_trial': 'rmsprop'}['epochs']), verbose=0)\n",
        "\n",
        "# Generating Predictions on testing data\n",
        "ANN_predictions = ANN.predict(X_test)\n",
        " \n",
        "# Scaling the predicted Price data back to original price scale\n",
        "ANN_predictions = TargetVarScalerFit.inverse_transform(ANN_predictions)\n",
        "\n",
        "# Scaling the y_test Price data back to original price scale\n",
        "y_test_orig = TargetVarScalerFit.inverse_transform(y_test)\n",
        " \n",
        "# Scaling the test data back to original scale\n",
        "Test_Data = np.concatenate((PredictorScalerFit.inverse_transform(X_test[:,:5]), X_test[:,5:]), axis=1)\n",
        "\n",
        "# Recreating the dataset, now with predicted price using the ANN model\n",
        "TestingData = pd.DataFrame(data=Test_Data, columns=X.columns)\n",
        "TestingData['Price'] = y_test_orig\n",
        "TestingData['ANN_predictions'] = ANN_predictions"
      ]
    },
    {
      "cell_type": "code",
      "execution_count": 35,
      "metadata": {},
      "outputs": [
        {
          "name": "stdout",
          "output_type": "stream",
          "text": [
            "Accuracy for the ANN model is: 83.17572975158691\n"
          ]
        }
      ],
      "source": [
        "def Accuracy_Score(orig, pred):\n",
        "    MAPE = np.mean(100 * (np.abs(orig - pred) / orig))\n",
        "    return(100-MAPE)\n",
        "\n",
        "print(\"Accuracy for the ANN model is:\", str(Accuracy_Score(TestingData['Price'], TestingData['ANN_predictions'])))"
      ]
    },
    {
      "cell_type": "markdown",
      "metadata": {},
      "source": [
        "Khá bất ngờ là ta thu được độ chính xác từ mô hình khá cao (82.72%)."
      ]
    },
    {
      "cell_type": "markdown",
      "metadata": {},
      "source": [
        "# Kết thúc"
      ]
    }
  ],
  "metadata": {
    "colab": {
      "collapsed_sections": [
        "3qcDHPSCVDog"
      ],
      "name": "main.ipynb",
      "provenance": [],
      "toc_visible": true
    },
    "kernelspec": {
      "display_name": "Python 3.10.2 64-bit",
      "language": "python",
      "name": "python3"
    },
    "language_info": {
      "codemirror_mode": {
        "name": "ipython",
        "version": 3
      },
      "file_extension": ".py",
      "mimetype": "text/x-python",
      "name": "python",
      "nbconvert_exporter": "python",
      "pygments_lexer": "ipython3",
      "version": "3.10.2"
    },
    "vscode": {
      "interpreter": {
        "hash": "26de051ba29f2982a8de78e945f0abaf191376122a1563185a90213a26c5da77"
      }
    }
  },
  "nbformat": 4,
  "nbformat_minor": 0
}
